{
 "cells": [
  {
   "cell_type": "code",
   "execution_count": null,
   "id": "95a90024",
   "metadata": {},
   "outputs": [],
   "source": [
    "from easydict import EasyDict as ED\n",
    "import torch\n",
    "# ^^^ pyforest auto-imports - don't write above this line\n",
    "from data_reader import CINC2021Reader as DR\n",
    "from cfg import TrainCfg, TrainCfg_ns, ModelCfg, ModelCfg_ns\n",
    "from model import ECG_CRNN_CINC2021\n",
    "from dataset import CINC2021\n",
    "\n",
    "from tqdm.auto import tqdm\n",
    "from copy import deepcopy\n",
    "\n",
    "from official_phase_legacy.cfg import TrainCfg as TrainCfg_old\n",
    "from torch.nn.parallel import DistributedDataParallel as DDP, DataParallel as DP\n",
    "\n",
    "%load_ext autoreload\n",
    "%autoreload 2"
   ]
  },
  {
   "cell_type": "code",
   "execution_count": null,
   "id": "bb8f50c8",
   "metadata": {},
   "outputs": [],
   "source": [
    "from trainer import CINC2021Trainer"
   ]
  },
  {
   "cell_type": "code",
   "execution_count": null,
   "id": "8dadd6f8",
   "metadata": {},
   "outputs": [],
   "source": [
    "ECG_CRNN_CINC2021.__DEBUG__ = False"
   ]
  },
  {
   "cell_type": "code",
   "execution_count": null,
   "id": "7ad8116e",
   "metadata": {},
   "outputs": [],
   "source": [
    "CINC2021.__DEBUG__ = False"
   ]
  },
  {
   "cell_type": "code",
   "execution_count": null,
   "id": "17b7fa4c",
   "metadata": {},
   "outputs": [],
   "source": [
    "CINC2021Trainer.__DEBUG__ = True"
   ]
  },
  {
   "cell_type": "code",
   "execution_count": null,
   "id": "8c4f1d34",
   "metadata": {},
   "outputs": [],
   "source": []
  },
  {
   "cell_type": "code",
   "execution_count": null,
   "id": "2971dd02",
   "metadata": {},
   "outputs": [],
   "source": [
    "TrainCfg_ns"
   ]
  },
  {
   "cell_type": "code",
   "execution_count": null,
   "id": "8a3cdd18",
   "metadata": {},
   "outputs": [],
   "source": [
    "ds_train = CINC2021(TrainCfg_ns, training=True, lazy=False)\n",
    "ds_val = CINC2021(TrainCfg_ns, training=False, lazy=False)"
   ]
  },
  {
   "cell_type": "code",
   "execution_count": null,
   "id": "0feb5f3b",
   "metadata": {},
   "outputs": [],
   "source": [
    "ds_train[1]"
   ]
  },
  {
   "cell_type": "code",
   "execution_count": null,
   "id": "0637f7f1",
   "metadata": {
    "scrolled": true
   },
   "outputs": [],
   "source": [
    "TrainCfg_ns_nn = deepcopy(TrainCfg_ns)\n",
    "TrainCfg_ns_nn.pop(\"normalize\")"
   ]
  },
  {
   "cell_type": "code",
   "execution_count": null,
   "id": "a44ce49e",
   "metadata": {},
   "outputs": [],
   "source": [
    "ds_train_nn = CINC2021(TrainCfg_ns_nn, training=True, lazy=False)\n",
    "ds_val_nn = CINC2021(TrainCfg_ns_nn, training=False, lazy=False)"
   ]
  },
  {
   "cell_type": "code",
   "execution_count": null,
   "id": "dd721cf9",
   "metadata": {},
   "outputs": [],
   "source": []
  },
  {
   "cell_type": "markdown",
   "id": "8e6f2b50",
   "metadata": {},
   "source": [
    "## 12 lead, resnet_nature_comm_se, lstm, se, 2-linears, AsymmetricLoss, lr=1e-4 to 2e-3, one cycle, no normalization (finished)"
   ]
  },
  {
   "cell_type": "code",
   "execution_count": null,
   "id": "5217371e",
   "metadata": {},
   "outputs": [],
   "source": [
    "train_config = deepcopy(TrainCfg_ns_nn)\n",
    "train_config.rnn_name = \"lstm\"\n",
    "\n",
    "device = torch.device(\"cuda\" if torch.cuda.is_available() else \"cpu\")\n",
    "\n",
    "train_config.n_leads = len(train_config.leads)\n",
    "\n",
    "tranches = train_config.tranches_for_training\n",
    "if tranches:\n",
    "    classes = train_config.tranche_classes[tranches]\n",
    "else:\n",
    "    classes = train_config.classes\n",
    "\n",
    "if train_config.n_leads == 12:\n",
    "    model_config = deepcopy(ModelCfg_ns.twelve_leads)\n",
    "elif train_config.n_leads == 6:\n",
    "    model_config = deepcopy(ModelCfg_ns.six_leads)\n",
    "elif train_config.n_leads == 4:\n",
    "    model_config = deepcopy(ModelCfg_ns.four_leads)\n",
    "elif train_config.n_leads == 3:\n",
    "    model_config = deepcopy(ModelCfg_ns.three_leads)\n",
    "elif train_config.n_leads == 2:\n",
    "    model_config = deepcopy(ModelCfg_ns.two_leads)\n",
    "model_config.cnn.name = train_config.cnn_name\n",
    "model_config.rnn.name = train_config.rnn_name\n",
    "model_config.attn.name = train_config.attn_name"
   ]
  },
  {
   "cell_type": "code",
   "execution_count": null,
   "id": "c8b66dc7",
   "metadata": {
    "scrolled": true
   },
   "outputs": [],
   "source": [
    "model = ECG_CRNN_CINC2021(\n",
    "    classes=train_config.classes,\n",
    "    n_leads=train_config.n_leads,\n",
    "    config=model_config,\n",
    ")"
   ]
  },
  {
   "cell_type": "code",
   "execution_count": null,
   "id": "a3e6cee7",
   "metadata": {},
   "outputs": [],
   "source": [
    "model.module_size_"
   ]
  },
  {
   "cell_type": "code",
   "execution_count": null,
   "id": "358deda2",
   "metadata": {},
   "outputs": [],
   "source": [
    "if torch.cuda.device_count() > 1:\n",
    "    model = DP(model)\n",
    "    # model = DDP(model)\n",
    "model.to(device=device)"
   ]
  },
  {
   "cell_type": "code",
   "execution_count": null,
   "id": "54b99150",
   "metadata": {},
   "outputs": [],
   "source": [
    "trainer = CINC2021Trainer(\n",
    "    model=model,\n",
    "    model_config=model_config,\n",
    "    train_config=train_config,\n",
    "    device=device,\n",
    "    lazy=True,\n",
    ")"
   ]
  },
  {
   "cell_type": "code",
   "execution_count": null,
   "id": "d557e976",
   "metadata": {},
   "outputs": [],
   "source": [
    "trainer._setup_dataloaders(ds_train_nn, ds_val_nn)"
   ]
  },
  {
   "cell_type": "code",
   "execution_count": null,
   "id": "f59e3392",
   "metadata": {},
   "outputs": [],
   "source": [
    "trainer.train()"
   ]
  },
  {
   "cell_type": "code",
   "execution_count": null,
   "id": "9005e04c",
   "metadata": {},
   "outputs": [],
   "source": [
    "del trainer\n",
    "import logging\n",
    "logging.shutdown()"
   ]
  },
  {
   "cell_type": "code",
   "execution_count": null,
   "id": "9bb9b5e6",
   "metadata": {},
   "outputs": [],
   "source": [
    "del model"
   ]
  },
  {
   "cell_type": "code",
   "execution_count": null,
   "id": "97e723cf",
   "metadata": {},
   "outputs": [],
   "source": []
  },
  {
   "cell_type": "markdown",
   "id": "ceebddae",
   "metadata": {},
   "source": [
    "## 12 lead, resnet_nature_comm_se, lstm, se, 2-linears, AsymmetricLoss, lr=1e-4 to 2e-3, one cycle, no normalization, no mixup (finished)"
   ]
  },
  {
   "cell_type": "code",
   "execution_count": null,
   "id": "3cb218eb",
   "metadata": {},
   "outputs": [],
   "source": [
    "train_config = deepcopy(TrainCfg_ns_nn)\n",
    "train_config.rnn_name = \"lstm\"\n",
    "\n",
    "train_config.pop(\"mixup\")\n",
    "\n",
    "device = torch.device(\"cuda\" if torch.cuda.is_available() else \"cpu\")\n",
    "\n",
    "train_config.n_leads = len(train_config.leads)\n",
    "\n",
    "tranches = train_config.tranches_for_training\n",
    "if tranches:\n",
    "    classes = train_config.tranche_classes[tranches]\n",
    "else:\n",
    "    classes = train_config.classes\n",
    "\n",
    "if train_config.n_leads == 12:\n",
    "    model_config = deepcopy(ModelCfg_ns.twelve_leads)\n",
    "elif train_config.n_leads == 6:\n",
    "    model_config = deepcopy(ModelCfg_ns.six_leads)\n",
    "elif train_config.n_leads == 4:\n",
    "    model_config = deepcopy(ModelCfg_ns.four_leads)\n",
    "elif train_config.n_leads == 3:\n",
    "    model_config = deepcopy(ModelCfg_ns.three_leads)\n",
    "elif train_config.n_leads == 2:\n",
    "    model_config = deepcopy(ModelCfg_ns.two_leads)\n",
    "model_config.cnn.name = train_config.cnn_name\n",
    "model_config.rnn.name = train_config.rnn_name\n",
    "model_config.attn.name = train_config.attn_name"
   ]
  },
  {
   "cell_type": "code",
   "execution_count": null,
   "id": "ce1c0c61",
   "metadata": {},
   "outputs": [],
   "source": [
    "model = ECG_CRNN_CINC2021(\n",
    "    classes=train_config.classes,\n",
    "    n_leads=train_config.n_leads,\n",
    "    config=model_config,\n",
    ")"
   ]
  },
  {
   "cell_type": "code",
   "execution_count": null,
   "id": "c5e80c55",
   "metadata": {},
   "outputs": [],
   "source": [
    "model.module_size_"
   ]
  },
  {
   "cell_type": "code",
   "execution_count": null,
   "id": "b4788b39",
   "metadata": {},
   "outputs": [],
   "source": [
    "if torch.cuda.device_count() > 1:\n",
    "    model = DP(model)\n",
    "    # model = DDP(model)\n",
    "model.to(device=device)"
   ]
  },
  {
   "cell_type": "code",
   "execution_count": null,
   "id": "9d15f7e8",
   "metadata": {},
   "outputs": [],
   "source": [
    "trainer = CINC2021Trainer(\n",
    "    model=model,\n",
    "    model_config=model_config,\n",
    "    train_config=train_config,\n",
    "    device=device,\n",
    "    lazy=True,\n",
    ")"
   ]
  },
  {
   "cell_type": "code",
   "execution_count": null,
   "id": "d81270ba",
   "metadata": {},
   "outputs": [],
   "source": [
    "trainer._setup_dataloaders(ds_train_nn, ds_val_nn)"
   ]
  },
  {
   "cell_type": "code",
   "execution_count": null,
   "id": "98d0d745",
   "metadata": {},
   "outputs": [],
   "source": [
    "trainer.train()"
   ]
  },
  {
   "cell_type": "code",
   "execution_count": null,
   "id": "0463db03",
   "metadata": {},
   "outputs": [],
   "source": []
  },
  {
   "cell_type": "code",
   "execution_count": null,
   "id": "901b7a3a",
   "metadata": {},
   "outputs": [],
   "source": [
    "del trainer\n",
    "import logging\n",
    "logging.shutdown()\n",
    "del model"
   ]
  },
  {
   "cell_type": "code",
   "execution_count": null,
   "id": "ecfe7a71",
   "metadata": {},
   "outputs": [],
   "source": []
  },
  {
   "cell_type": "code",
   "execution_count": null,
   "id": "efd95b18",
   "metadata": {},
   "outputs": [],
   "source": []
  },
  {
   "cell_type": "code",
   "execution_count": null,
   "id": "152a6a33",
   "metadata": {},
   "outputs": [],
   "source": []
  },
  {
   "cell_type": "code",
   "execution_count": null,
   "id": "c2fb6954",
   "metadata": {},
   "outputs": [],
   "source": []
  },
  {
   "cell_type": "markdown",
   "id": "cf8e4e78",
   "metadata": {},
   "source": [
    "## 12 lead, resnet_nature_comm_se, lstm, se, 2-linears, AsymmetricLoss, lr=1e-4 to 2e-3, one cycle (finished)"
   ]
  },
  {
   "cell_type": "code",
   "execution_count": null,
   "id": "ccf046ee",
   "metadata": {},
   "outputs": [],
   "source": [
    "train_config = deepcopy(TrainCfg_ns)\n",
    "train_config.rnn_name = \"lstm\"\n",
    "\n",
    "device = torch.device(\"cuda\" if torch.cuda.is_available() else \"cpu\")\n",
    "\n",
    "train_config.n_leads = len(train_config.leads)\n",
    "\n",
    "tranches = train_config.tranches_for_training\n",
    "if tranches:\n",
    "    classes = train_config.tranche_classes[tranches]\n",
    "else:\n",
    "    classes = train_config.classes\n",
    "\n",
    "if train_config.n_leads == 12:\n",
    "    model_config = deepcopy(ModelCfg_ns.twelve_leads)\n",
    "elif train_config.n_leads == 6:\n",
    "    model_config = deepcopy(ModelCfg_ns.six_leads)\n",
    "elif train_config.n_leads == 4:\n",
    "    model_config = deepcopy(ModelCfg_ns.four_leads)\n",
    "elif train_config.n_leads == 3:\n",
    "    model_config = deepcopy(ModelCfg_ns.three_leads)\n",
    "elif train_config.n_leads == 2:\n",
    "    model_config = deepcopy(ModelCfg_ns.two_leads)\n",
    "model_config.cnn.name = train_config.cnn_name\n",
    "model_config.rnn.name = train_config.rnn_name\n",
    "model_config.attn.name = train_config.attn_name"
   ]
  },
  {
   "cell_type": "code",
   "execution_count": null,
   "id": "c5ada41d",
   "metadata": {
    "scrolled": true
   },
   "outputs": [],
   "source": [
    "model = ECG_CRNN_CINC2021(\n",
    "    classes=train_config.classes,\n",
    "    n_leads=train_config.n_leads,\n",
    "    config=model_config,\n",
    ")"
   ]
  },
  {
   "cell_type": "code",
   "execution_count": null,
   "id": "7072c552",
   "metadata": {},
   "outputs": [],
   "source": [
    "model.module_size_"
   ]
  },
  {
   "cell_type": "code",
   "execution_count": null,
   "id": "0c7097b8",
   "metadata": {},
   "outputs": [],
   "source": [
    "if torch.cuda.device_count() > 1:\n",
    "    model = DP(model)\n",
    "    # model = DDP(model)\n",
    "model.to(device=device)"
   ]
  },
  {
   "cell_type": "code",
   "execution_count": null,
   "id": "29ffbc7d",
   "metadata": {},
   "outputs": [],
   "source": [
    "trainer = CINC2021Trainer(\n",
    "    model=model,\n",
    "    model_config=model_config,\n",
    "    train_config=train_config,\n",
    "    device=device,\n",
    "    lazy=True,\n",
    ")"
   ]
  },
  {
   "cell_type": "code",
   "execution_count": null,
   "id": "aff2700d",
   "metadata": {},
   "outputs": [],
   "source": [
    "trainer._setup_dataloaders(ds_train, ds_val)"
   ]
  },
  {
   "cell_type": "code",
   "execution_count": null,
   "id": "02589092",
   "metadata": {
    "scrolled": true
   },
   "outputs": [],
   "source": [
    "trainer.train()"
   ]
  },
  {
   "cell_type": "code",
   "execution_count": null,
   "id": "f6d1a0f5",
   "metadata": {},
   "outputs": [],
   "source": [
    "del trainer\n",
    "import logging\n",
    "logging.shutdown()"
   ]
  },
  {
   "cell_type": "code",
   "execution_count": null,
   "id": "f4aafb85",
   "metadata": {},
   "outputs": [],
   "source": []
  },
  {
   "cell_type": "markdown",
   "id": "7aa7c1f1",
   "metadata": {},
   "source": [
    "## 12 lead, resnet_nature_comm_se, no lstm, no se, 1-linear, AsymmetricLoss, lr=1e-4 to 1e-3, one_cycle (finished)"
   ]
  },
  {
   "cell_type": "code",
   "execution_count": null,
   "id": "5d294ecd",
   "metadata": {},
   "outputs": [],
   "source": [
    "train_config = deepcopy(TrainCfg_ns)\n",
    "train_config.rnn_name = \"none\"\n",
    "train_config.attn_name = \"none\"\n",
    "\n",
    "device = torch.device(\"cuda\" if torch.cuda.is_available() else \"cpu\")\n",
    "\n",
    "train_config.n_leads = len(train_config.leads)\n",
    "\n",
    "tranches = train_config.tranches_for_training\n",
    "if tranches:\n",
    "    classes = train_config.tranche_classes[tranches]\n",
    "else:\n",
    "    classes = train_config.classes\n",
    "\n",
    "if train_config.n_leads == 12:\n",
    "    model_config = deepcopy(ModelCfg_ns.twelve_leads)\n",
    "elif train_config.n_leads == 6:\n",
    "    model_config = deepcopy(ModelCfg_ns.six_leads)\n",
    "elif train_config.n_leads == 4:\n",
    "    model_config = deepcopy(ModelCfg_ns.four_leads)\n",
    "elif train_config.n_leads == 3:\n",
    "    model_config = deepcopy(ModelCfg_ns.three_leads)\n",
    "elif train_config.n_leads == 2:\n",
    "    model_config = deepcopy(ModelCfg_ns.two_leads)\n",
    "model_config.cnn.name = train_config.cnn_name\n",
    "model_config.rnn.name = train_config.rnn_name\n",
    "model_config.attn.name = train_config.attn_name\n",
    "\n",
    "model_config.clf = ED()\n",
    "model_config.clf.out_channels = [\n",
    "  # not including the last linear layer, whose out channels equals n_classes\n",
    "]\n",
    "model_config.clf.bias = True\n",
    "model_config.clf.dropouts = 0.0\n",
    "model_config.clf.activation = \"mish\"  # for a single layer `SeqLin`, activation is ignored"
   ]
  },
  {
   "cell_type": "code",
   "execution_count": null,
   "id": "883f9728",
   "metadata": {},
   "outputs": [],
   "source": [
    "model = ECG_CRNN_CINC2021(\n",
    "    classes=train_config.classes,\n",
    "    n_leads=train_config.n_leads,\n",
    "    config=model_config,\n",
    ")"
   ]
  },
  {
   "cell_type": "code",
   "execution_count": null,
   "id": "ddc17688",
   "metadata": {},
   "outputs": [],
   "source": [
    "model.module_size_"
   ]
  },
  {
   "cell_type": "code",
   "execution_count": null,
   "id": "d5442c33",
   "metadata": {},
   "outputs": [],
   "source": [
    "if torch.cuda.device_count() > 1:\n",
    "    model = DP(model)\n",
    "    # model = DDP(model)\n",
    "model.to(device=device)"
   ]
  },
  {
   "cell_type": "code",
   "execution_count": null,
   "id": "4f022c72",
   "metadata": {},
   "outputs": [],
   "source": [
    "trainer = CINC2021Trainer(\n",
    "    model=model,\n",
    "    model_config=model_config,\n",
    "    train_config=train_config,\n",
    "    device=device,\n",
    "    lazy=True,\n",
    ")"
   ]
  },
  {
   "cell_type": "code",
   "execution_count": null,
   "id": "bed01ca0",
   "metadata": {},
   "outputs": [],
   "source": [
    "trainer._setup_dataloaders(ds_train, ds_val)"
   ]
  },
  {
   "cell_type": "code",
   "execution_count": null,
   "id": "5d20db45",
   "metadata": {
    "scrolled": true
   },
   "outputs": [],
   "source": [
    "trainer.train()"
   ]
  },
  {
   "cell_type": "code",
   "execution_count": null,
   "id": "1439d7fd",
   "metadata": {},
   "outputs": [],
   "source": []
  },
  {
   "cell_type": "code",
   "execution_count": null,
   "id": "e602d59b",
   "metadata": {},
   "outputs": [],
   "source": [
    "del trainer\n",
    "import logging\n",
    "logging.shutdown()\n",
    "del model"
   ]
  },
  {
   "cell_type": "code",
   "execution_count": null,
   "id": "65e91945",
   "metadata": {},
   "outputs": [],
   "source": []
  },
  {
   "cell_type": "markdown",
   "id": "65f94223",
   "metadata": {},
   "source": [
    "## 12 lead, TResNet-F, no lstm, no se, 1-linear, AsymmetricLoss, lr=1e-4 to 1e-3, one_cycle (finished)"
   ]
  },
  {
   "cell_type": "code",
   "execution_count": null,
   "id": "68dec4be",
   "metadata": {},
   "outputs": [],
   "source": [
    "train_config = deepcopy(TrainCfg_ns)\n",
    "train_config.rnn_name = \"none\"\n",
    "train_config.attn_name = \"none\"\n",
    "train_config.cnn_name = \"tresnetF\"\n",
    "\n",
    "device = torch.device(\"cuda\" if torch.cuda.is_available() else \"cpu\")\n",
    "\n",
    "train_config.n_leads = len(train_config.leads)\n",
    "\n",
    "tranches = train_config.tranches_for_training\n",
    "if tranches:\n",
    "    classes = train_config.tranche_classes[tranches]\n",
    "else:\n",
    "    classes = train_config.classes\n",
    "\n",
    "if train_config.n_leads == 12:\n",
    "    model_config = deepcopy(ModelCfg_ns.twelve_leads)\n",
    "elif train_config.n_leads == 6:\n",
    "    model_config = deepcopy(ModelCfg_ns.six_leads)\n",
    "elif train_config.n_leads == 4:\n",
    "    model_config = deepcopy(ModelCfg_ns.four_leads)\n",
    "elif train_config.n_leads == 3:\n",
    "    model_config = deepcopy(ModelCfg_ns.three_leads)\n",
    "elif train_config.n_leads == 2:\n",
    "    model_config = deepcopy(ModelCfg_ns.two_leads)\n",
    "model_config.cnn.name = train_config.cnn_name\n",
    "model_config.rnn.name = train_config.rnn_name\n",
    "model_config.attn.name = train_config.attn_name\n",
    "\n",
    "model_config.clf = ED()\n",
    "model_config.clf.out_channels = [\n",
    "  # not including the last linear layer, whose out channels equals n_classes\n",
    "]\n",
    "model_config.clf.bias = True\n",
    "model_config.clf.dropouts = 0.0\n",
    "model_config.clf.activation = \"mish\"  # for a single layer `SeqLin`, activation is ignored"
   ]
  },
  {
   "cell_type": "code",
   "execution_count": null,
   "id": "d944ae82",
   "metadata": {},
   "outputs": [],
   "source": [
    "model = ECG_CRNN_CINC2021(\n",
    "    classes=train_config.classes,\n",
    "    n_leads=train_config.n_leads,\n",
    "    config=model_config,\n",
    ")"
   ]
  },
  {
   "cell_type": "code",
   "execution_count": null,
   "id": "621e455f",
   "metadata": {},
   "outputs": [],
   "source": [
    "model.module_size_"
   ]
  },
  {
   "cell_type": "code",
   "execution_count": null,
   "id": "98f2e825",
   "metadata": {},
   "outputs": [],
   "source": [
    "if torch.cuda.device_count() > 1:\n",
    "    model = DP(model)\n",
    "    # model = DDP(model)\n",
    "model.to(device=device)"
   ]
  },
  {
   "cell_type": "code",
   "execution_count": null,
   "id": "2a0ec7c3",
   "metadata": {},
   "outputs": [],
   "source": [
    "trainer = CINC2021Trainer(\n",
    "    model=model,\n",
    "    model_config=model_config,\n",
    "    train_config=train_config,\n",
    "    device=device,\n",
    "    lazy=True,\n",
    ")"
   ]
  },
  {
   "cell_type": "code",
   "execution_count": null,
   "id": "52f46354",
   "metadata": {},
   "outputs": [],
   "source": [
    "trainer._setup_dataloaders(ds_train, ds_val)"
   ]
  },
  {
   "cell_type": "code",
   "execution_count": null,
   "id": "6a054965",
   "metadata": {},
   "outputs": [],
   "source": [
    "trainer.train()"
   ]
  },
  {
   "cell_type": "code",
   "execution_count": null,
   "id": "ecb63c51",
   "metadata": {},
   "outputs": [],
   "source": [
    "del trainer\n",
    "import logging\n",
    "logging.shutdown()\n",
    "del model\n",
    "del _"
   ]
  },
  {
   "cell_type": "code",
   "execution_count": null,
   "id": "0676d3f5",
   "metadata": {},
   "outputs": [],
   "source": []
  },
  {
   "cell_type": "code",
   "execution_count": null,
   "id": "967b6325",
   "metadata": {},
   "outputs": [],
   "source": []
  },
  {
   "cell_type": "markdown",
   "id": "2c31891c",
   "metadata": {},
   "source": [
    "## 12 lead, TResNet-N, no lstm, no se, 1-linear, AsymmetricLoss, lr=1e-4 to 1e-3, one_cycle (finished)"
   ]
  },
  {
   "cell_type": "code",
   "execution_count": null,
   "id": "a935ef18",
   "metadata": {},
   "outputs": [],
   "source": [
    "train_config = deepcopy(TrainCfg_ns)\n",
    "train_config.rnn_name = \"none\"\n",
    "train_config.attn_name = \"none\"\n",
    "train_config.cnn_name = \"tresnetN\"\n",
    "\n",
    "device = torch.device(\"cuda\" if torch.cuda.is_available() else \"cpu\")\n",
    "\n",
    "train_config.n_leads = len(train_config.leads)\n",
    "\n",
    "tranches = train_config.tranches_for_training\n",
    "if tranches:\n",
    "    classes = train_config.tranche_classes[tranches]\n",
    "else:\n",
    "    classes = train_config.classes\n",
    "\n",
    "if train_config.n_leads == 12:\n",
    "    model_config = deepcopy(ModelCfg_ns.twelve_leads)\n",
    "elif train_config.n_leads == 6:\n",
    "    model_config = deepcopy(ModelCfg_ns.six_leads)\n",
    "elif train_config.n_leads == 4:\n",
    "    model_config = deepcopy(ModelCfg_ns.four_leads)\n",
    "elif train_config.n_leads == 3:\n",
    "    model_config = deepcopy(ModelCfg_ns.three_leads)\n",
    "elif train_config.n_leads == 2:\n",
    "    model_config = deepcopy(ModelCfg_ns.two_leads)\n",
    "model_config.cnn.name = train_config.cnn_name\n",
    "model_config.rnn.name = train_config.rnn_name\n",
    "model_config.attn.name = train_config.attn_name\n",
    "\n",
    "model_config.clf = ED()\n",
    "model_config.clf.out_channels = [\n",
    "  # not including the last linear layer, whose out channels equals n_classes\n",
    "]\n",
    "model_config.clf.bias = True\n",
    "model_config.clf.dropouts = 0.0\n",
    "model_config.clf.activation = \"mish\"  # for a single layer `SeqLin`, activation is ignored"
   ]
  },
  {
   "cell_type": "code",
   "execution_count": null,
   "id": "30d78780",
   "metadata": {},
   "outputs": [],
   "source": [
    "model = ECG_CRNN_CINC2021(\n",
    "    classes=train_config.classes,\n",
    "    n_leads=train_config.n_leads,\n",
    "    config=model_config,\n",
    ")"
   ]
  },
  {
   "cell_type": "code",
   "execution_count": null,
   "id": "c886acaf",
   "metadata": {},
   "outputs": [],
   "source": [
    "model.module_size_"
   ]
  },
  {
   "cell_type": "code",
   "execution_count": null,
   "id": "4d56dad9",
   "metadata": {},
   "outputs": [],
   "source": [
    "if torch.cuda.device_count() > 1:\n",
    "    model = DP(model)\n",
    "    # model = DDP(model)\n",
    "model.to(device=device)"
   ]
  },
  {
   "cell_type": "code",
   "execution_count": null,
   "id": "f1bc8b7d",
   "metadata": {},
   "outputs": [],
   "source": [
    "trainer = CINC2021Trainer(\n",
    "    model=model,\n",
    "    model_config=model_config,\n",
    "    train_config=train_config,\n",
    "    device=device,\n",
    "    lazy=True,\n",
    ")"
   ]
  },
  {
   "cell_type": "code",
   "execution_count": null,
   "id": "b574b123",
   "metadata": {},
   "outputs": [],
   "source": [
    "trainer._setup_dataloaders(ds_train, ds_val)"
   ]
  },
  {
   "cell_type": "code",
   "execution_count": null,
   "id": "5b9d5b59",
   "metadata": {},
   "outputs": [],
   "source": [
    "trainer.train()"
   ]
  },
  {
   "cell_type": "code",
   "execution_count": null,
   "id": "ae218a0c",
   "metadata": {},
   "outputs": [],
   "source": [
    "del trainer\n",
    "import logging\n",
    "logging.shutdown()\n",
    "del model\n",
    "del _"
   ]
  },
  {
   "cell_type": "code",
   "execution_count": null,
   "id": "0c2df30f",
   "metadata": {},
   "outputs": [],
   "source": []
  },
  {
   "cell_type": "code",
   "execution_count": null,
   "id": "7ea0ba1d",
   "metadata": {},
   "outputs": [],
   "source": []
  },
  {
   "cell_type": "markdown",
   "id": "a9dcb612",
   "metadata": {},
   "source": [
    "## 12 lead, multi-scopic, no lstm, no se, 1-linear, AsymmetricLoss, lr=1e-4 to 1e-3, one_cycle (finished)"
   ]
  },
  {
   "cell_type": "code",
   "execution_count": null,
   "id": "0d04c78d",
   "metadata": {},
   "outputs": [],
   "source": [
    "train_config = deepcopy(TrainCfg_ns)\n",
    "train_config.rnn_name = \"none\"\n",
    "train_config.attn_name = \"none\"\n",
    "train_config.cnn_name = \"multi_scopic\"\n",
    "\n",
    "device = torch.device(\"cuda\" if torch.cuda.is_available() else \"cpu\")\n",
    "\n",
    "train_config.n_leads = len(train_config.leads)\n",
    "\n",
    "tranches = train_config.tranches_for_training\n",
    "if tranches:\n",
    "    classes = train_config.tranche_classes[tranches]\n",
    "else:\n",
    "    classes = train_config.classes\n",
    "\n",
    "if train_config.n_leads == 12:\n",
    "    model_config = deepcopy(ModelCfg_ns.twelve_leads)\n",
    "elif train_config.n_leads == 6:\n",
    "    model_config = deepcopy(ModelCfg_ns.six_leads)\n",
    "elif train_config.n_leads == 4:\n",
    "    model_config = deepcopy(ModelCfg_ns.four_leads)\n",
    "elif train_config.n_leads == 3:\n",
    "    model_config = deepcopy(ModelCfg_ns.three_leads)\n",
    "elif train_config.n_leads == 2:\n",
    "    model_config = deepcopy(ModelCfg_ns.two_leads)\n",
    "model_config.cnn.name = train_config.cnn_name\n",
    "model_config.rnn.name = train_config.rnn_name\n",
    "model_config.attn.name = train_config.attn_name\n",
    "\n",
    "model_config.clf = ED()\n",
    "model_config.clf.out_channels = [\n",
    "  # not including the last linear layer, whose out channels equals n_classes\n",
    "]\n",
    "model_config.clf.bias = True\n",
    "model_config.clf.dropouts = 0.0\n",
    "model_config.clf.activation = \"mish\"  # for a single layer `SeqLin`, activation is ignored"
   ]
  },
  {
   "cell_type": "code",
   "execution_count": null,
   "id": "0f2b9610",
   "metadata": {},
   "outputs": [],
   "source": [
    "model = ECG_CRNN_CINC2021(\n",
    "    classes=train_config.classes,\n",
    "    n_leads=train_config.n_leads,\n",
    "    config=model_config,\n",
    ")"
   ]
  },
  {
   "cell_type": "code",
   "execution_count": null,
   "id": "6bcf656e",
   "metadata": {},
   "outputs": [],
   "source": [
    "model.module_size_"
   ]
  },
  {
   "cell_type": "code",
   "execution_count": null,
   "id": "82adf705",
   "metadata": {},
   "outputs": [],
   "source": [
    "if torch.cuda.device_count() > 1:\n",
    "    model = DP(model)\n",
    "    # model = DDP(model)\n",
    "model.to(device=device)"
   ]
  },
  {
   "cell_type": "code",
   "execution_count": null,
   "id": "8f2a435c",
   "metadata": {},
   "outputs": [],
   "source": [
    "trainer = CINC2021Trainer(\n",
    "    model=model,\n",
    "    model_config=model_config,\n",
    "    train_config=train_config,\n",
    "    device=device,\n",
    "    lazy=True,\n",
    ")"
   ]
  },
  {
   "cell_type": "code",
   "execution_count": null,
   "id": "ab769654",
   "metadata": {},
   "outputs": [],
   "source": [
    "trainer._setup_dataloaders(ds_train, ds_val)"
   ]
  },
  {
   "cell_type": "code",
   "execution_count": null,
   "id": "58556123",
   "metadata": {},
   "outputs": [],
   "source": [
    "trainer.train()"
   ]
  },
  {
   "cell_type": "code",
   "execution_count": null,
   "id": "73c31c1f",
   "metadata": {},
   "outputs": [],
   "source": [
    "del trainer\n",
    "import logging\n",
    "logging.shutdown()\n",
    "del model\n",
    "del _"
   ]
  },
  {
   "cell_type": "code",
   "execution_count": null,
   "id": "b05c85ce",
   "metadata": {},
   "outputs": [],
   "source": []
  },
  {
   "cell_type": "code",
   "execution_count": null,
   "id": "5878853a",
   "metadata": {},
   "outputs": [],
   "source": []
  },
  {
   "cell_type": "markdown",
   "id": "9506c719",
   "metadata": {},
   "source": [
    "## 12 lead, multi-scopic-leadwise, lstm, se, 2-linear, AsymmetricLoss, lr=1e-4 to 1e-3, one_cycle (finished)"
   ]
  },
  {
   "cell_type": "code",
   "execution_count": null,
   "id": "e301e7cd",
   "metadata": {},
   "outputs": [],
   "source": [
    "train_config = deepcopy(TrainCfg_ns)\n",
    "train_config.rnn_name = \"lstm\"\n",
    "train_config.cnn_name = \"multi_scopic_leadwise\"\n",
    "\n",
    "device = torch.device(\"cuda\" if torch.cuda.is_available() else \"cpu\")\n",
    "\n",
    "train_config.n_leads = len(train_config.leads)\n",
    "\n",
    "tranches = train_config.tranches_for_training\n",
    "if tranches:\n",
    "    classes = train_config.tranche_classes[tranches]\n",
    "else:\n",
    "    classes = train_config.classes\n",
    "\n",
    "if train_config.n_leads == 12:\n",
    "    model_config = deepcopy(ModelCfg_ns.twelve_leads)\n",
    "elif train_config.n_leads == 6:\n",
    "    model_config = deepcopy(ModelCfg_ns.six_leads)\n",
    "elif train_config.n_leads == 4:\n",
    "    model_config = deepcopy(ModelCfg_ns.four_leads)\n",
    "elif train_config.n_leads == 3:\n",
    "    model_config = deepcopy(ModelCfg_ns.three_leads)\n",
    "elif train_config.n_leads == 2:\n",
    "    model_config = deepcopy(ModelCfg_ns.two_leads)\n",
    "model_config.cnn.name = train_config.cnn_name\n",
    "model_config.rnn.name = train_config.rnn_name\n",
    "model_config.attn.name = train_config.attn_name"
   ]
  },
  {
   "cell_type": "code",
   "execution_count": null,
   "id": "d14429e6",
   "metadata": {},
   "outputs": [],
   "source": [
    "model = ECG_CRNN_CINC2021(\n",
    "    classes=train_config.classes,\n",
    "    n_leads=train_config.n_leads,\n",
    "    config=model_config,\n",
    ")"
   ]
  },
  {
   "cell_type": "code",
   "execution_count": null,
   "id": "ea34338c",
   "metadata": {},
   "outputs": [],
   "source": [
    "model.module_size_"
   ]
  },
  {
   "cell_type": "code",
   "execution_count": null,
   "id": "4d2d529a",
   "metadata": {},
   "outputs": [],
   "source": [
    "if torch.cuda.device_count() > 1:\n",
    "    model = DP(model)\n",
    "    # model = DDP(model)\n",
    "model.to(device=device)"
   ]
  },
  {
   "cell_type": "code",
   "execution_count": null,
   "id": "c14f6b96",
   "metadata": {},
   "outputs": [],
   "source": [
    "trainer = CINC2021Trainer(\n",
    "    model=model,\n",
    "    model_config=model_config,\n",
    "    train_config=train_config,\n",
    "    device=device,\n",
    "    lazy=True,\n",
    ")"
   ]
  },
  {
   "cell_type": "code",
   "execution_count": null,
   "id": "fc9ad630",
   "metadata": {},
   "outputs": [],
   "source": [
    "trainer._setup_dataloaders(ds_train, ds_val)"
   ]
  },
  {
   "cell_type": "code",
   "execution_count": null,
   "id": "9c43c3a0",
   "metadata": {},
   "outputs": [],
   "source": [
    "trainer.train()"
   ]
  },
  {
   "cell_type": "code",
   "execution_count": null,
   "id": "86d35b32",
   "metadata": {},
   "outputs": [],
   "source": [
    "del trainer\n",
    "import logging\n",
    "logging.shutdown()\n",
    "del model\n",
    "del _"
   ]
  },
  {
   "cell_type": "code",
   "execution_count": null,
   "id": "c110ffd0",
   "metadata": {},
   "outputs": [],
   "source": []
  },
  {
   "cell_type": "code",
   "execution_count": null,
   "id": "54d0e700",
   "metadata": {},
   "outputs": [],
   "source": []
  },
  {
   "cell_type": "markdown",
   "id": "1796c37e",
   "metadata": {},
   "source": [
    "## 12 lead, TResNet-P, no lstm, no se, 1-linear, AsymmetricLoss, lr=1e-4 to 1e-3, one_cycle (finished)"
   ]
  },
  {
   "cell_type": "code",
   "execution_count": null,
   "id": "523ad006",
   "metadata": {},
   "outputs": [],
   "source": [
    "train_config = deepcopy(TrainCfg_ns)\n",
    "train_config.rnn_name = \"none\"\n",
    "train_config.attn_name = \"none\"\n",
    "train_config.cnn_name = \"tresnetP\"\n",
    "\n",
    "device = torch.device(\"cuda\" if torch.cuda.is_available() else \"cpu\")\n",
    "\n",
    "train_config.n_leads = len(train_config.leads)\n",
    "\n",
    "tranches = train_config.tranches_for_training\n",
    "if tranches:\n",
    "    classes = train_config.tranche_classes[tranches]\n",
    "else:\n",
    "    classes = train_config.classes\n",
    "\n",
    "if train_config.n_leads == 12:\n",
    "    model_config = deepcopy(ModelCfg_ns.twelve_leads)\n",
    "elif train_config.n_leads == 6:\n",
    "    model_config = deepcopy(ModelCfg_ns.six_leads)\n",
    "elif train_config.n_leads == 4:\n",
    "    model_config = deepcopy(ModelCfg_ns.four_leads)\n",
    "elif train_config.n_leads == 3:\n",
    "    model_config = deepcopy(ModelCfg_ns.three_leads)\n",
    "elif train_config.n_leads == 2:\n",
    "    model_config = deepcopy(ModelCfg_ns.two_leads)\n",
    "model_config.cnn.name = train_config.cnn_name\n",
    "model_config.rnn.name = train_config.rnn_name\n",
    "model_config.attn.name = train_config.attn_name\n",
    "\n",
    "model_config.clf = ED()\n",
    "model_config.clf.out_channels = [\n",
    "  # not including the last linear layer, whose out channels equals n_classes\n",
    "]\n",
    "model_config.clf.bias = True\n",
    "model_config.clf.dropouts = 0.0\n",
    "model_config.clf.activation = \"mish\"  # for a single layer `SeqLin`, activation is ignored"
   ]
  },
  {
   "cell_type": "code",
   "execution_count": null,
   "id": "c9d10ded",
   "metadata": {},
   "outputs": [],
   "source": [
    "model = ECG_CRNN_CINC2021(\n",
    "    classes=train_config.classes,\n",
    "    n_leads=train_config.n_leads,\n",
    "    config=model_config,\n",
    ")"
   ]
  },
  {
   "cell_type": "code",
   "execution_count": null,
   "id": "1ce2f29f",
   "metadata": {},
   "outputs": [],
   "source": [
    "model.module_size_"
   ]
  },
  {
   "cell_type": "code",
   "execution_count": null,
   "id": "fe4991ec",
   "metadata": {},
   "outputs": [],
   "source": [
    "if torch.cuda.device_count() > 1:\n",
    "    model = DP(model)\n",
    "    # model = DDP(model)\n",
    "model.to(device=device)"
   ]
  },
  {
   "cell_type": "code",
   "execution_count": null,
   "id": "0b937b94",
   "metadata": {},
   "outputs": [],
   "source": [
    "trainer = CINC2021Trainer(\n",
    "    model=model,\n",
    "    model_config=model_config,\n",
    "    train_config=train_config,\n",
    "    device=device,\n",
    "    lazy=True,\n",
    ")"
   ]
  },
  {
   "cell_type": "code",
   "execution_count": null,
   "id": "6da6b4cd",
   "metadata": {},
   "outputs": [],
   "source": [
    "trainer._setup_dataloaders(ds_train, ds_val)"
   ]
  },
  {
   "cell_type": "code",
   "execution_count": null,
   "id": "997b2c75",
   "metadata": {},
   "outputs": [],
   "source": [
    "trainer.train()"
   ]
  },
  {
   "cell_type": "code",
   "execution_count": null,
   "id": "211d509b",
   "metadata": {},
   "outputs": [],
   "source": [
    "del trainer\n",
    "import logging\n",
    "logging.shutdown()\n",
    "del model\n",
    "del _"
   ]
  },
  {
   "cell_type": "code",
   "execution_count": null,
   "id": "75c7822b",
   "metadata": {},
   "outputs": [],
   "source": []
  },
  {
   "cell_type": "code",
   "execution_count": null,
   "id": "0efacc2f",
   "metadata": {},
   "outputs": [],
   "source": []
  },
  {
   "cell_type": "markdown",
   "id": "adcb6234",
   "metadata": {},
   "source": [
    "## 12 lead, multi-scopic-leadwise, no lstm, no se, 1-linear, AsymmetricLoss, lr=1e-4 to 1e-3, one_cycle (finished)"
   ]
  },
  {
   "cell_type": "code",
   "execution_count": null,
   "id": "7128a43f",
   "metadata": {},
   "outputs": [],
   "source": [
    "train_config = deepcopy(TrainCfg_ns)\n",
    "train_config.rnn_name = \"none\"\n",
    "train_config.attn_name = \"none\"\n",
    "train_config.cnn_name = \"multi_scopic_leadwise\"\n",
    "\n",
    "device = torch.device(\"cuda\" if torch.cuda.is_available() else \"cpu\")\n",
    "\n",
    "train_config.n_leads = len(train_config.leads)\n",
    "\n",
    "tranches = train_config.tranches_for_training\n",
    "if tranches:\n",
    "    classes = train_config.tranche_classes[tranches]\n",
    "else:\n",
    "    classes = train_config.classes\n",
    "\n",
    "if train_config.n_leads == 12:\n",
    "    model_config = deepcopy(ModelCfg_ns.twelve_leads)\n",
    "elif train_config.n_leads == 6:\n",
    "    model_config = deepcopy(ModelCfg_ns.six_leads)\n",
    "elif train_config.n_leads == 4:\n",
    "    model_config = deepcopy(ModelCfg_ns.four_leads)\n",
    "elif train_config.n_leads == 3:\n",
    "    model_config = deepcopy(ModelCfg_ns.three_leads)\n",
    "elif train_config.n_leads == 2:\n",
    "    model_config = deepcopy(ModelCfg_ns.two_leads)\n",
    "model_config.cnn.name = train_config.cnn_name\n",
    "model_config.rnn.name = train_config.rnn_name\n",
    "model_config.attn.name = train_config.attn_name\n",
    "\n",
    "model_config.clf = ED()\n",
    "model_config.clf.out_channels = [\n",
    "  # not including the last linear layer, whose out channels equals n_classes\n",
    "]\n",
    "model_config.clf.bias = True\n",
    "model_config.clf.dropouts = 0.0\n",
    "model_config.clf.activation = \"mish\"  # for a single layer `SeqLin`, activation is ignored"
   ]
  },
  {
   "cell_type": "code",
   "execution_count": null,
   "id": "92225846",
   "metadata": {},
   "outputs": [],
   "source": [
    "model = ECG_CRNN_CINC2021(\n",
    "    classes=train_config.classes,\n",
    "    n_leads=train_config.n_leads,\n",
    "    config=model_config,\n",
    ")"
   ]
  },
  {
   "cell_type": "code",
   "execution_count": null,
   "id": "42b2f5d9",
   "metadata": {},
   "outputs": [],
   "source": [
    "model.module_size_"
   ]
  },
  {
   "cell_type": "code",
   "execution_count": null,
   "id": "707b49b1",
   "metadata": {},
   "outputs": [],
   "source": [
    "if torch.cuda.device_count() > 1:\n",
    "    model = DP(model)\n",
    "    # model = DDP(model)\n",
    "model.to(device=device)"
   ]
  },
  {
   "cell_type": "code",
   "execution_count": null,
   "id": "232e69dd",
   "metadata": {},
   "outputs": [],
   "source": [
    "trainer = CINC2021Trainer(\n",
    "    model=model,\n",
    "    model_config=model_config,\n",
    "    train_config=train_config,\n",
    "    device=device,\n",
    "    lazy=True,\n",
    ")"
   ]
  },
  {
   "cell_type": "code",
   "execution_count": null,
   "id": "857983ff",
   "metadata": {},
   "outputs": [],
   "source": [
    "trainer._setup_dataloaders(ds_train, ds_val)"
   ]
  },
  {
   "cell_type": "code",
   "execution_count": null,
   "id": "13c4c957",
   "metadata": {},
   "outputs": [],
   "source": [
    "trainer.train()"
   ]
  },
  {
   "cell_type": "code",
   "execution_count": null,
   "id": "499bfba0",
   "metadata": {},
   "outputs": [],
   "source": [
    "del trainer\n",
    "import logging\n",
    "logging.shutdown()\n",
    "del model\n",
    "del _"
   ]
  },
  {
   "cell_type": "code",
   "execution_count": null,
   "id": "0c0c9a6f",
   "metadata": {},
   "outputs": [],
   "source": []
  },
  {
   "cell_type": "code",
   "execution_count": null,
   "id": "ec2ff0b0",
   "metadata": {},
   "outputs": [],
   "source": []
  },
  {
   "cell_type": "markdown",
   "id": "27716bfd",
   "metadata": {},
   "source": [
    "## 12 lead, resnet_nature_comm_se, lstm, se, 2-linear, lr=1e-3 (finished)"
   ]
  },
  {
   "cell_type": "code",
   "execution_count": null,
   "id": "c5f7c8af",
   "metadata": {},
   "outputs": [],
   "source": [
    "train_config = deepcopy(TrainCfg_ns)\n",
    "train_config.rnn_name = \"lstm\"\n",
    "train_config.lr_scheduler = \"none\"\n",
    "train_config.learning_rate = 1e-3\n",
    "\n",
    "device = torch.device(\"cuda\" if torch.cuda.is_available() else \"cpu\")\n",
    "\n",
    "train_config.n_leads = len(train_config.leads)\n",
    "\n",
    "tranches = train_config.tranches_for_training\n",
    "if tranches:\n",
    "    classes = train_config.tranche_classes[tranches]\n",
    "else:\n",
    "    classes = train_config.classes\n",
    "\n",
    "if train_config.n_leads == 12:\n",
    "    model_config = deepcopy(ModelCfg_ns.twelve_leads)\n",
    "elif train_config.n_leads == 6:\n",
    "    model_config = deepcopy(ModelCfg_ns.six_leads)\n",
    "elif train_config.n_leads == 4:\n",
    "    model_config = deepcopy(ModelCfg_ns.four_leads)\n",
    "elif train_config.n_leads == 3:\n",
    "    model_config = deepcopy(ModelCfg_ns.three_leads)\n",
    "elif train_config.n_leads == 2:\n",
    "    model_config = deepcopy(ModelCfg_ns.two_leads)\n",
    "model_config.cnn.name = train_config.cnn_name\n",
    "model_config.rnn.name = train_config.rnn_name\n",
    "model_config.attn.name = train_config.attn_name"
   ]
  },
  {
   "cell_type": "code",
   "execution_count": null,
   "id": "3fd037d0",
   "metadata": {},
   "outputs": [],
   "source": [
    "model = ECG_CRNN_CINC2021(\n",
    "    classes=train_config.classes,\n",
    "    n_leads=train_config.n_leads,\n",
    "    config=model_config,\n",
    ")"
   ]
  },
  {
   "cell_type": "code",
   "execution_count": null,
   "id": "2efd8d49",
   "metadata": {},
   "outputs": [],
   "source": [
    "model.module_size_"
   ]
  },
  {
   "cell_type": "code",
   "execution_count": null,
   "id": "df556db5",
   "metadata": {},
   "outputs": [],
   "source": [
    "if torch.cuda.device_count() > 1:\n",
    "    model = DP(model)\n",
    "    # model = DDP(model)\n",
    "model.to(device=device)"
   ]
  },
  {
   "cell_type": "code",
   "execution_count": null,
   "id": "dde3cfbd",
   "metadata": {},
   "outputs": [],
   "source": [
    "trainer = CINC2021Trainer(\n",
    "    model=model,\n",
    "    model_config=model_config,\n",
    "    train_config=train_config,\n",
    "    device=device,\n",
    "    lazy=True,\n",
    ")"
   ]
  },
  {
   "cell_type": "code",
   "execution_count": null,
   "id": "e473e3ed",
   "metadata": {},
   "outputs": [],
   "source": [
    "trainer._setup_dataloaders(ds_train, ds_val)"
   ]
  },
  {
   "cell_type": "code",
   "execution_count": null,
   "id": "f47e27dc",
   "metadata": {},
   "outputs": [],
   "source": [
    "trainer.train()"
   ]
  },
  {
   "cell_type": "code",
   "execution_count": null,
   "id": "37003253",
   "metadata": {},
   "outputs": [],
   "source": [
    "del trainer\n",
    "import logging\n",
    "logging.shutdown()\n",
    "del model\n",
    "del _"
   ]
  },
  {
   "cell_type": "code",
   "execution_count": null,
   "id": "87324767",
   "metadata": {},
   "outputs": [],
   "source": []
  },
  {
   "cell_type": "code",
   "execution_count": null,
   "id": "79ed56a5",
   "metadata": {},
   "outputs": [],
   "source": []
  },
  {
   "cell_type": "markdown",
   "id": "add85e44",
   "metadata": {},
   "source": [
    "## 12 lead, resnet_nature_comm_se, no lstm, no se, 2-linear, AsymmetricLoss, lr=1e-4 to 1e-3, one_cycle (finished)"
   ]
  },
  {
   "cell_type": "code",
   "execution_count": null,
   "id": "2d579675",
   "metadata": {},
   "outputs": [],
   "source": [
    "train_config = deepcopy(TrainCfg_ns)\n",
    "train_config.rnn_name = \"none\"\n",
    "train_config.attn_name = \"none\"\n",
    "\n",
    "device = torch.device(\"cuda\" if torch.cuda.is_available() else \"cpu\")\n",
    "\n",
    "train_config.n_leads = len(train_config.leads)\n",
    "\n",
    "tranches = train_config.tranches_for_training\n",
    "if tranches:\n",
    "    classes = train_config.tranche_classes[tranches]\n",
    "else:\n",
    "    classes = train_config.classes\n",
    "\n",
    "if train_config.n_leads == 12:\n",
    "    model_config = deepcopy(ModelCfg_ns.twelve_leads)\n",
    "elif train_config.n_leads == 6:\n",
    "    model_config = deepcopy(ModelCfg_ns.six_leads)\n",
    "elif train_config.n_leads == 4:\n",
    "    model_config = deepcopy(ModelCfg_ns.four_leads)\n",
    "elif train_config.n_leads == 3:\n",
    "    model_config = deepcopy(ModelCfg_ns.three_leads)\n",
    "elif train_config.n_leads == 2:\n",
    "    model_config = deepcopy(ModelCfg_ns.two_leads)\n",
    "model_config.cnn.name = train_config.cnn_name\n",
    "model_config.rnn.name = train_config.rnn_name\n",
    "model_config.attn.name = train_config.attn_name"
   ]
  },
  {
   "cell_type": "code",
   "execution_count": null,
   "id": "b1a2a613",
   "metadata": {},
   "outputs": [],
   "source": [
    "model = ECG_CRNN_CINC2021(\n",
    "    classes=train_config.classes,\n",
    "    n_leads=train_config.n_leads,\n",
    "    config=model_config,\n",
    ")"
   ]
  },
  {
   "cell_type": "code",
   "execution_count": null,
   "id": "8fa8b1e3",
   "metadata": {},
   "outputs": [],
   "source": [
    "model.module_size_"
   ]
  },
  {
   "cell_type": "code",
   "execution_count": null,
   "id": "b3d6aca3",
   "metadata": {},
   "outputs": [],
   "source": [
    "if torch.cuda.device_count() > 1:\n",
    "    model = DP(model)\n",
    "    # model = DDP(model)\n",
    "model.to(device=device)"
   ]
  },
  {
   "cell_type": "code",
   "execution_count": null,
   "id": "73a5be1d",
   "metadata": {},
   "outputs": [],
   "source": [
    "trainer = CINC2021Trainer(\n",
    "    model=model,\n",
    "    model_config=model_config,\n",
    "    train_config=train_config,\n",
    "    device=device,\n",
    "    lazy=True,\n",
    ")"
   ]
  },
  {
   "cell_type": "code",
   "execution_count": null,
   "id": "ec9ae920",
   "metadata": {},
   "outputs": [],
   "source": [
    "trainer._setup_dataloaders(ds_train, ds_val)"
   ]
  },
  {
   "cell_type": "code",
   "execution_count": null,
   "id": "180f1b23",
   "metadata": {
    "scrolled": true
   },
   "outputs": [],
   "source": [
    "trainer.train()"
   ]
  },
  {
   "cell_type": "code",
   "execution_count": null,
   "id": "51d381a7",
   "metadata": {},
   "outputs": [],
   "source": []
  },
  {
   "cell_type": "code",
   "execution_count": null,
   "id": "a7e93805",
   "metadata": {},
   "outputs": [],
   "source": [
    "del trainer\n",
    "import logging\n",
    "logging.shutdown()\n",
    "del model\n",
    "del _"
   ]
  },
  {
   "cell_type": "code",
   "execution_count": null,
   "id": "f627efa9",
   "metadata": {},
   "outputs": [],
   "source": []
  },
  {
   "cell_type": "code",
   "execution_count": null,
   "id": "a291dc32",
   "metadata": {},
   "outputs": [],
   "source": []
  },
  {
   "cell_type": "code",
   "execution_count": null,
   "id": "93fe58b4",
   "metadata": {},
   "outputs": [],
   "source": []
  },
  {
   "cell_type": "markdown",
   "id": "d9b88438",
   "metadata": {},
   "source": [
    "## 12 lead, resnet_nature_comm_se, lstm, se, 2-linear, no lstm, AsymmetricLoss, lr=1e-4 to 1e-3, one_cycle (finished)"
   ]
  },
  {
   "cell_type": "code",
   "execution_count": null,
   "id": "84346d76",
   "metadata": {},
   "outputs": [],
   "source": [
    "train_config = deepcopy(TrainCfg_ns)\n",
    "# train_config.rnn_name = \"lstm\"\n",
    "\n",
    "device = torch.device(\"cuda\" if torch.cuda.is_available() else \"cpu\")\n",
    "\n",
    "train_config.n_leads = len(train_config.leads)\n",
    "\n",
    "tranches = train_config.tranches_for_training\n",
    "if tranches:\n",
    "    classes = train_config.tranche_classes[tranches]\n",
    "else:\n",
    "    classes = train_config.classes\n",
    "\n",
    "if train_config.n_leads == 12:\n",
    "    model_config = deepcopy(ModelCfg_ns.twelve_leads)\n",
    "elif train_config.n_leads == 6:\n",
    "    model_config = deepcopy(ModelCfg_ns.six_leads)\n",
    "elif train_config.n_leads == 4:\n",
    "    model_config = deepcopy(ModelCfg_ns.four_leads)\n",
    "elif train_config.n_leads == 3:\n",
    "    model_config = deepcopy(ModelCfg_ns.three_leads)\n",
    "elif train_config.n_leads == 2:\n",
    "    model_config = deepcopy(ModelCfg_ns.two_leads)\n",
    "model_config.cnn.name = train_config.cnn_name\n",
    "model_config.rnn.name = train_config.rnn_name\n",
    "model_config.attn.name = train_config.attn_name"
   ]
  },
  {
   "cell_type": "code",
   "execution_count": null,
   "id": "cbf7cf91",
   "metadata": {},
   "outputs": [],
   "source": [
    "model = ECG_CRNN_CINC2021(\n",
    "    classes=train_config.classes,\n",
    "    n_leads=train_config.n_leads,\n",
    "    config=model_config,\n",
    ")"
   ]
  },
  {
   "cell_type": "code",
   "execution_count": null,
   "id": "7f2cd0c0",
   "metadata": {},
   "outputs": [],
   "source": [
    "model.module_size_"
   ]
  },
  {
   "cell_type": "code",
   "execution_count": null,
   "id": "94f72022",
   "metadata": {},
   "outputs": [],
   "source": [
    "if torch.cuda.device_count() > 1:\n",
    "    model = DP(model)\n",
    "    # model = DDP(model)\n",
    "model.to(device=device)"
   ]
  },
  {
   "cell_type": "code",
   "execution_count": null,
   "id": "9a4372cc",
   "metadata": {},
   "outputs": [],
   "source": [
    "trainer = CINC2021Trainer(\n",
    "    model=model,\n",
    "    model_config=model_config,\n",
    "    train_config=train_config,\n",
    "    device=device,\n",
    "    lazy=True,\n",
    ")"
   ]
  },
  {
   "cell_type": "code",
   "execution_count": null,
   "id": "c2562914",
   "metadata": {},
   "outputs": [],
   "source": [
    "trainer._setup_dataloaders(ds_train, ds_val)"
   ]
  },
  {
   "cell_type": "code",
   "execution_count": null,
   "id": "8460df8b",
   "metadata": {
    "scrolled": true
   },
   "outputs": [],
   "source": [
    "trainer.train()"
   ]
  },
  {
   "cell_type": "code",
   "execution_count": null,
   "id": "d2572f7f",
   "metadata": {},
   "outputs": [],
   "source": []
  },
  {
   "cell_type": "code",
   "execution_count": null,
   "id": "0da200ed",
   "metadata": {},
   "outputs": [],
   "source": [
    "del trainer"
   ]
  },
  {
   "cell_type": "code",
   "execution_count": null,
   "id": "ba7c1991",
   "metadata": {},
   "outputs": [],
   "source": [
    "import logging\n",
    "logging.shutdown()"
   ]
  },
  {
   "cell_type": "code",
   "execution_count": null,
   "id": "9150c442",
   "metadata": {},
   "outputs": [],
   "source": []
  },
  {
   "cell_type": "markdown",
   "id": "6e5f7310",
   "metadata": {},
   "source": [
    "## 12 lead, multi_scopic, lstm, se, 2-linear, AsymmetricLoss, lr=1e-4 to 1e-3, one_cycle (finished)"
   ]
  },
  {
   "cell_type": "code",
   "execution_count": null,
   "id": "84952a45",
   "metadata": {},
   "outputs": [],
   "source": [
    "train_config = deepcopy(TrainCfg_ns)\n",
    "train_config.rnn_name = \"lstm\"\n",
    "train_config.cnn_name = \"multi_scopic\"\n",
    "\n",
    "device = torch.device(\"cuda\" if torch.cuda.is_available() else \"cpu\")\n",
    "\n",
    "train_config.n_leads = len(train_config.leads)\n",
    "\n",
    "tranches = train_config.tranches_for_training\n",
    "if tranches:\n",
    "    classes = train_config.tranche_classes[tranches]\n",
    "else:\n",
    "    classes = train_config.classes\n",
    "\n",
    "if train_config.n_leads == 12:\n",
    "    model_config = deepcopy(ModelCfg_ns.twelve_leads)\n",
    "elif train_config.n_leads == 6:\n",
    "    model_config = deepcopy(ModelCfg_ns.six_leads)\n",
    "elif train_config.n_leads == 4:\n",
    "    model_config = deepcopy(ModelCfg_ns.four_leads)\n",
    "elif train_config.n_leads == 3:\n",
    "    model_config = deepcopy(ModelCfg_ns.three_leads)\n",
    "elif train_config.n_leads == 2:\n",
    "    model_config = deepcopy(ModelCfg_ns.two_leads)\n",
    "model_config.cnn.name = train_config.cnn_name\n",
    "model_config.rnn.name = train_config.rnn_name\n",
    "model_config.attn.name = train_config.attn_name"
   ]
  },
  {
   "cell_type": "code",
   "execution_count": null,
   "id": "1df9c903",
   "metadata": {},
   "outputs": [],
   "source": [
    "model = ECG_CRNN_CINC2021(\n",
    "    classes=train_config.classes,\n",
    "    n_leads=train_config.n_leads,\n",
    "    config=model_config,\n",
    ")"
   ]
  },
  {
   "cell_type": "code",
   "execution_count": null,
   "id": "fa9c9de8",
   "metadata": {},
   "outputs": [],
   "source": [
    "model.module_size_"
   ]
  },
  {
   "cell_type": "code",
   "execution_count": null,
   "id": "628e9961",
   "metadata": {},
   "outputs": [],
   "source": [
    "if torch.cuda.device_count() > 1:\n",
    "    model = DP(model)\n",
    "    # model = DDP(model)\n",
    "model.to(device=device)"
   ]
  },
  {
   "cell_type": "code",
   "execution_count": null,
   "id": "1e47ad07",
   "metadata": {},
   "outputs": [],
   "source": [
    "trainer = CINC2021Trainer(\n",
    "    model=model,\n",
    "    model_config=model_config,\n",
    "    train_config=train_config,\n",
    "    device=device,\n",
    "    lazy=True,\n",
    ")"
   ]
  },
  {
   "cell_type": "code",
   "execution_count": null,
   "id": "441622b3",
   "metadata": {},
   "outputs": [],
   "source": [
    "trainer._setup_dataloaders(ds_train, ds_val)"
   ]
  },
  {
   "cell_type": "code",
   "execution_count": null,
   "id": "0a064abf",
   "metadata": {
    "scrolled": true
   },
   "outputs": [],
   "source": [
    "trainer.train()"
   ]
  },
  {
   "cell_type": "code",
   "execution_count": null,
   "id": "69439135",
   "metadata": {},
   "outputs": [],
   "source": []
  },
  {
   "cell_type": "code",
   "execution_count": null,
   "id": "bdad5f9f",
   "metadata": {},
   "outputs": [],
   "source": [
    "del trainer\n",
    "import logging\n",
    "logging.shutdown()"
   ]
  },
  {
   "cell_type": "code",
   "execution_count": null,
   "id": "5d5c6d46",
   "metadata": {},
   "outputs": [],
   "source": []
  },
  {
   "cell_type": "code",
   "execution_count": null,
   "id": "a5dab09c",
   "metadata": {},
   "outputs": [],
   "source": []
  },
  {
   "cell_type": "markdown",
   "id": "c5bb2c17",
   "metadata": {},
   "source": [
    "## 12 lead, resnet_nature_comm_bottleneck_se, no lstm, no se, 1-linear, AsymmetricLoss, lr=1e-4 to 2e-3, one cycle(finished)"
   ]
  },
  {
   "cell_type": "code",
   "execution_count": null,
   "id": "7f8a8b37",
   "metadata": {},
   "outputs": [],
   "source": [
    "from torch_ecg.torch_ecg.model_configs.cnn import resnet_nature_comm_bottle_neck_se\n",
    "\n",
    "train_config = deepcopy(TrainCfg_ns)\n",
    "train_config.rnn_name = \"none\"\n",
    "train_config.attn_name = \"none\"\n",
    "train_config.cnn_name = \"resnet_nature_comm_bottle_neck_se\"\n",
    "\n",
    "device = torch.device(\"cuda\" if torch.cuda.is_available() else \"cpu\")\n",
    "\n",
    "train_config.n_leads = len(train_config.leads)\n",
    "\n",
    "tranches = train_config.tranches_for_training\n",
    "if tranches:\n",
    "    classes = train_config.tranche_classes[tranches]\n",
    "else:\n",
    "    classes = train_config.classes\n",
    "\n",
    "if train_config.n_leads == 12:\n",
    "    model_config = deepcopy(ModelCfg_ns.twelve_leads)\n",
    "elif train_config.n_leads == 6:\n",
    "    model_config = deepcopy(ModelCfg_ns.six_leads)\n",
    "elif train_config.n_leads == 4:\n",
    "    model_config = deepcopy(ModelCfg_ns.four_leads)\n",
    "elif train_config.n_leads == 3:\n",
    "    model_config = deepcopy(ModelCfg_ns.three_leads)\n",
    "elif train_config.n_leads == 2:\n",
    "    model_config = deepcopy(ModelCfg_ns.two_leads)\n",
    "model_config.cnn.name = train_config.cnn_name\n",
    "model_config.cnn.resnet_nature_comm_bottle_neck_se = deepcopy(resnet_nature_comm_bottle_neck_se)\n",
    "model_config.rnn.name = train_config.rnn_name\n",
    "model_config.attn.name = train_config.attn_name\n",
    "\n",
    "model_config.clf = ED()\n",
    "model_config.clf.out_channels = [\n",
    "  # not including the last linear layer, whose out channels equals n_classes\n",
    "]\n",
    "model_config.clf.bias = True\n",
    "model_config.clf.dropouts = 0.0\n",
    "model_config.clf.activation = \"mish\"  # for a single layer `SeqLin`, activation is ignored"
   ]
  },
  {
   "cell_type": "code",
   "execution_count": null,
   "id": "0216d15e",
   "metadata": {
    "scrolled": true
   },
   "outputs": [],
   "source": [
    "model = ECG_CRNN_CINC2021(\n",
    "    classes=train_config.classes,\n",
    "    n_leads=train_config.n_leads,\n",
    "    config=model_config,\n",
    ")"
   ]
  },
  {
   "cell_type": "code",
   "execution_count": null,
   "id": "00fa9f57",
   "metadata": {},
   "outputs": [],
   "source": [
    "model.module_size_"
   ]
  },
  {
   "cell_type": "code",
   "execution_count": null,
   "id": "0f720bf4",
   "metadata": {},
   "outputs": [],
   "source": [
    "if torch.cuda.device_count() > 1:\n",
    "    model = DP(model)\n",
    "    # model = DDP(model)\n",
    "model.to(device=device)"
   ]
  },
  {
   "cell_type": "code",
   "execution_count": null,
   "id": "3ead0c75",
   "metadata": {},
   "outputs": [],
   "source": [
    "trainer = CINC2021Trainer(\n",
    "    model=model,\n",
    "    model_config=model_config,\n",
    "    train_config=train_config,\n",
    "    device=device,\n",
    "    lazy=True,\n",
    ")"
   ]
  },
  {
   "cell_type": "code",
   "execution_count": null,
   "id": "6f9a68df",
   "metadata": {},
   "outputs": [],
   "source": [
    "trainer._setup_dataloaders(ds_train, ds_val)"
   ]
  },
  {
   "cell_type": "code",
   "execution_count": null,
   "id": "ba7fa6b8",
   "metadata": {},
   "outputs": [],
   "source": [
    "trainer.train()"
   ]
  },
  {
   "cell_type": "code",
   "execution_count": null,
   "id": "6cef0851",
   "metadata": {},
   "outputs": [],
   "source": [
    "del trainer\n",
    "import logging\n",
    "logging.shutdown()\n",
    "del model\n",
    "del _"
   ]
  },
  {
   "cell_type": "code",
   "execution_count": null,
   "id": "c6bea9aa",
   "metadata": {},
   "outputs": [],
   "source": []
  },
  {
   "cell_type": "code",
   "execution_count": null,
   "id": "529e339f",
   "metadata": {},
   "outputs": [],
   "source": []
  },
  {
   "cell_type": "markdown",
   "id": "ce47f4cc",
   "metadata": {},
   "source": [
    "## 12 lead, resnet_nature_comm_se, lstm, se, 2-linears, AsymmetricLoss, lr=1e-4 to 2e-3, one cycle, no normalization, no mixup, with label smoothing (finished)"
   ]
  },
  {
   "cell_type": "code",
   "execution_count": null,
   "id": "d9548c42",
   "metadata": {},
   "outputs": [],
   "source": [
    "train_config = deepcopy(TrainCfg_ns_nn)\n",
    "train_config.rnn_name = \"lstm\"\n",
    "\n",
    "train_config.pop(\"mixup\")\n",
    "train_config.label_smooth = {\n",
    "    \"prob\": 0.8,\n",
    "    \"smoothing\": 0.1\n",
    "}\n",
    "\n",
    "device = torch.device(\"cuda\" if torch.cuda.is_available() else \"cpu\")\n",
    "\n",
    "train_config.n_leads = len(train_config.leads)\n",
    "\n",
    "tranches = train_config.tranches_for_training\n",
    "if tranches:\n",
    "    classes = train_config.tranche_classes[tranches]\n",
    "else:\n",
    "    classes = train_config.classes\n",
    "\n",
    "if train_config.n_leads == 12:\n",
    "    model_config = deepcopy(ModelCfg_ns.twelve_leads)\n",
    "elif train_config.n_leads == 6:\n",
    "    model_config = deepcopy(ModelCfg_ns.six_leads)\n",
    "elif train_config.n_leads == 4:\n",
    "    model_config = deepcopy(ModelCfg_ns.four_leads)\n",
    "elif train_config.n_leads == 3:\n",
    "    model_config = deepcopy(ModelCfg_ns.three_leads)\n",
    "elif train_config.n_leads == 2:\n",
    "    model_config = deepcopy(ModelCfg_ns.two_leads)\n",
    "model_config.cnn.name = train_config.cnn_name\n",
    "model_config.rnn.name = train_config.rnn_name\n",
    "model_config.attn.name = train_config.attn_name"
   ]
  },
  {
   "cell_type": "code",
   "execution_count": null,
   "id": "a5260af2",
   "metadata": {},
   "outputs": [],
   "source": [
    "model = ECG_CRNN_CINC2021(\n",
    "    classes=train_config.classes,\n",
    "    n_leads=train_config.n_leads,\n",
    "    config=model_config,\n",
    ")"
   ]
  },
  {
   "cell_type": "code",
   "execution_count": null,
   "id": "272a26f1",
   "metadata": {},
   "outputs": [],
   "source": [
    "model.module_size_"
   ]
  },
  {
   "cell_type": "code",
   "execution_count": null,
   "id": "2a6c0bd5",
   "metadata": {},
   "outputs": [],
   "source": [
    "if torch.cuda.device_count() > 1:\n",
    "    model = DP(model)\n",
    "    # model = DDP(model)\n",
    "model.to(device=device)"
   ]
  },
  {
   "cell_type": "code",
   "execution_count": null,
   "id": "a78e3617",
   "metadata": {},
   "outputs": [],
   "source": [
    "trainer = CINC2021Trainer(\n",
    "    model=model,\n",
    "    model_config=model_config,\n",
    "    train_config=train_config,\n",
    "    device=device,\n",
    "    lazy=True,\n",
    ")"
   ]
  },
  {
   "cell_type": "code",
   "execution_count": null,
   "id": "0185ad04",
   "metadata": {},
   "outputs": [],
   "source": [
    "trainer._setup_dataloaders(ds_train_nn, ds_val_nn)"
   ]
  },
  {
   "cell_type": "code",
   "execution_count": null,
   "id": "bbf21474",
   "metadata": {},
   "outputs": [],
   "source": [
    "trainer.augmenter_manager"
   ]
  },
  {
   "cell_type": "code",
   "execution_count": null,
   "id": "b8ae2e4a",
   "metadata": {},
   "outputs": [],
   "source": [
    "trainer.train()"
   ]
  },
  {
   "cell_type": "code",
   "execution_count": null,
   "id": "df7dc542",
   "metadata": {},
   "outputs": [],
   "source": [
    "del trainer\n",
    "import logging\n",
    "logging.shutdown()\n",
    "del model"
   ]
  },
  {
   "cell_type": "code",
   "execution_count": null,
   "id": "e9b24cac",
   "metadata": {},
   "outputs": [],
   "source": []
  },
  {
   "cell_type": "code",
   "execution_count": null,
   "id": "db1c0764",
   "metadata": {},
   "outputs": [],
   "source": []
  },
  {
   "cell_type": "markdown",
   "id": "21bc8117",
   "metadata": {},
   "source": [
    "## 12 lead, resnet_nature_comm_se, se, 2-linears, weightedBCE, lr=1e-4 to 2e-3, one cycle (finished)"
   ]
  },
  {
   "cell_type": "code",
   "execution_count": null,
   "id": "88e2212a",
   "metadata": {},
   "outputs": [],
   "source": [
    "cw = np.zeros((len(train_config.class_weights),), dtype=np.float32)\n",
    "for idx, c in enumerate(train_config.classes):\n",
    "    cw[idx] = train_config.class_weights[c]\n",
    "class_weights = torch.from_numpy(cw.astype(np.float32)).view(1, len(train_config.classes))\n",
    "class_weights"
   ]
  },
  {
   "cell_type": "code",
   "execution_count": null,
   "id": "6122e654",
   "metadata": {},
   "outputs": [],
   "source": [
    "train_config = deepcopy(TrainCfg_ns)\n",
    "train_config.rnn_name = \"lstm\"\n",
    "train_config.loss = \"BCEWithLogitsWithClassWeightLoss\"\n",
    "train_config.loss_kw = {\n",
    "    \"class_weight\": class_weights\n",
    "}\n",
    "\n",
    "device = torch.device(\"cuda\" if torch.cuda.is_available() else \"cpu\")\n",
    "\n",
    "train_config.n_leads = len(train_config.leads)\n",
    "\n",
    "tranches = train_config.tranches_for_training\n",
    "if tranches:\n",
    "    classes = train_config.tranche_classes[tranches]\n",
    "else:\n",
    "    classes = train_config.classes\n",
    "\n",
    "if train_config.n_leads == 12:\n",
    "    model_config = deepcopy(ModelCfg_ns.twelve_leads)\n",
    "elif train_config.n_leads == 6:\n",
    "    model_config = deepcopy(ModelCfg_ns.six_leads)\n",
    "elif train_config.n_leads == 4:\n",
    "    model_config = deepcopy(ModelCfg_ns.four_leads)\n",
    "elif train_config.n_leads == 3:\n",
    "    model_config = deepcopy(ModelCfg_ns.three_leads)\n",
    "elif train_config.n_leads == 2:\n",
    "    model_config = deepcopy(ModelCfg_ns.two_leads)\n",
    "model_config.cnn.name = train_config.cnn_name\n",
    "model_config.rnn.name = train_config.rnn_name\n",
    "model_config.attn.name = train_config.attn_name"
   ]
  },
  {
   "cell_type": "code",
   "execution_count": null,
   "id": "7dbf2570",
   "metadata": {},
   "outputs": [],
   "source": [
    "model = ECG_CRNN_CINC2021(\n",
    "    classes=train_config.classes,\n",
    "    n_leads=train_config.n_leads,\n",
    "    config=model_config,\n",
    ")"
   ]
  },
  {
   "cell_type": "code",
   "execution_count": null,
   "id": "c096f435",
   "metadata": {},
   "outputs": [],
   "source": [
    "model.module_size_"
   ]
  },
  {
   "cell_type": "code",
   "execution_count": null,
   "id": "59a136b6",
   "metadata": {},
   "outputs": [],
   "source": [
    "if torch.cuda.device_count() > 1:\n",
    "    model = DP(model)\n",
    "    # model = DDP(model)\n",
    "model.to(device=device)"
   ]
  },
  {
   "cell_type": "code",
   "execution_count": null,
   "id": "a58f5248",
   "metadata": {},
   "outputs": [],
   "source": [
    "trainer = CINC2021Trainer(\n",
    "    model=model,\n",
    "    model_config=model_config,\n",
    "    train_config=train_config,\n",
    "    device=device,\n",
    "    lazy=True,\n",
    ")"
   ]
  },
  {
   "cell_type": "code",
   "execution_count": null,
   "id": "b6e36862",
   "metadata": {},
   "outputs": [],
   "source": [
    "trainer._setup_dataloaders(ds_train, ds_val)"
   ]
  },
  {
   "cell_type": "code",
   "execution_count": null,
   "id": "e2d12057",
   "metadata": {},
   "outputs": [],
   "source": [
    "trainer.augmenter_manager"
   ]
  },
  {
   "cell_type": "code",
   "execution_count": null,
   "id": "73dbc540",
   "metadata": {},
   "outputs": [],
   "source": [
    "trainer.train()"
   ]
  },
  {
   "cell_type": "code",
   "execution_count": null,
   "id": "0c2972da",
   "metadata": {},
   "outputs": [],
   "source": [
    "del trainer\n",
    "import logging\n",
    "logging.shutdown()\n",
    "del model"
   ]
  },
  {
   "cell_type": "code",
   "execution_count": null,
   "id": "86cc6301",
   "metadata": {},
   "outputs": [],
   "source": []
  },
  {
   "cell_type": "markdown",
   "id": "4ed0c873",
   "metadata": {},
   "source": [
    "## 12 lead, tresnetN, lstm, se, 2-linears, AsymmetricLoss, lr=1e-4 to 2e-3, one cycle"
   ]
  },
  {
   "cell_type": "code",
   "execution_count": null,
   "id": "ed0a1e51",
   "metadata": {},
   "outputs": [],
   "source": [
    "train_config = deepcopy(TrainCfg_ns)\n",
    "train_config.rnn_name = \"lstm\"\n",
    "train_config.cnn_name = \"tresnetN\"\n",
    "\n",
    "device = torch.device(\"cuda\" if torch.cuda.is_available() else \"cpu\")\n",
    "\n",
    "train_config.n_leads = len(train_config.leads)\n",
    "\n",
    "tranches = train_config.tranches_for_training\n",
    "if tranches:\n",
    "    classes = train_config.tranche_classes[tranches]\n",
    "else:\n",
    "    classes = train_config.classes\n",
    "\n",
    "if train_config.n_leads == 12:\n",
    "    model_config = deepcopy(ModelCfg_ns.twelve_leads)\n",
    "elif train_config.n_leads == 6:\n",
    "    model_config = deepcopy(ModelCfg_ns.six_leads)\n",
    "elif train_config.n_leads == 4:\n",
    "    model_config = deepcopy(ModelCfg_ns.four_leads)\n",
    "elif train_config.n_leads == 3:\n",
    "    model_config = deepcopy(ModelCfg_ns.three_leads)\n",
    "elif train_config.n_leads == 2:\n",
    "    model_config = deepcopy(ModelCfg_ns.two_leads)\n",
    "model_config.cnn.name = train_config.cnn_name\n",
    "model_config.rnn.name = train_config.rnn_name\n",
    "model_config.attn.name = train_config.attn_name"
   ]
  },
  {
   "cell_type": "code",
   "execution_count": null,
   "id": "3573fe0d",
   "metadata": {},
   "outputs": [],
   "source": [
    "model = ECG_CRNN_CINC2021(\n",
    "    classes=train_config.classes,\n",
    "    n_leads=train_config.n_leads,\n",
    "    config=model_config,\n",
    ")"
   ]
  },
  {
   "cell_type": "code",
   "execution_count": null,
   "id": "1d68c46b",
   "metadata": {},
   "outputs": [],
   "source": [
    "model.module_size_"
   ]
  },
  {
   "cell_type": "code",
   "execution_count": null,
   "id": "53a1e152",
   "metadata": {},
   "outputs": [],
   "source": [
    "if torch.cuda.device_count() > 1:\n",
    "    model = DP(model)\n",
    "    # model = DDP(model)\n",
    "model.to(device=device)"
   ]
  },
  {
   "cell_type": "code",
   "execution_count": null,
   "id": "61eff259",
   "metadata": {},
   "outputs": [],
   "source": [
    "trainer = CINC2021Trainer(\n",
    "    model=model,\n",
    "    model_config=model_config,\n",
    "    train_config=train_config,\n",
    "    device=device,\n",
    "    lazy=True,\n",
    ")"
   ]
  },
  {
   "cell_type": "code",
   "execution_count": null,
   "id": "7ec8cb30",
   "metadata": {},
   "outputs": [],
   "source": [
    "trainer._setup_dataloaders(ds_train, ds_val)"
   ]
  },
  {
   "cell_type": "code",
   "execution_count": null,
   "id": "eeeb47bf",
   "metadata": {},
   "outputs": [],
   "source": [
    "trainer.augmenter_manager"
   ]
  },
  {
   "cell_type": "code",
   "execution_count": null,
   "id": "687dd670",
   "metadata": {},
   "outputs": [],
   "source": [
    "trainer.train()"
   ]
  },
  {
   "cell_type": "raw",
   "id": "17c9decd",
   "metadata": {},
   "source": [
    "del trainer\n",
    "import logging\n",
    "logging.shutdown()\n",
    "del model"
   ]
  },
  {
   "cell_type": "code",
   "execution_count": null,
   "id": "85a8f59c",
   "metadata": {},
   "outputs": [],
   "source": []
  },
  {
   "cell_type": "code",
   "execution_count": null,
   "id": "f5914096",
   "metadata": {},
   "outputs": [],
   "source": []
  },
  {
   "cell_type": "markdown",
   "id": "a7d37551",
   "metadata": {},
   "source": [
    "## 12 lead, tresnetP, lstm, se, 2-linears, AsymmetricLoss, lr=1e-4 to 2e-3, one cycle(finished)"
   ]
  },
  {
   "cell_type": "code",
   "execution_count": null,
   "id": "b53df21c",
   "metadata": {},
   "outputs": [],
   "source": [
    "train_config = deepcopy(TrainCfg_ns)\n",
    "train_config.rnn_name = \"lstm\"\n",
    "train_config.cnn_name = \"tresnetP\"\n",
    "\n",
    "device = torch.device(\"cuda\" if torch.cuda.is_available() else \"cpu\")\n",
    "\n",
    "train_config.n_leads = len(train_config.leads)\n",
    "\n",
    "tranches = train_config.tranches_for_training\n",
    "if tranches:\n",
    "    classes = train_config.tranche_classes[tranches]\n",
    "else:\n",
    "    classes = train_config.classes\n",
    "\n",
    "if train_config.n_leads == 12:\n",
    "    model_config = deepcopy(ModelCfg_ns.twelve_leads)\n",
    "elif train_config.n_leads == 6:\n",
    "    model_config = deepcopy(ModelCfg_ns.six_leads)\n",
    "elif train_config.n_leads == 4:\n",
    "    model_config = deepcopy(ModelCfg_ns.four_leads)\n",
    "elif train_config.n_leads == 3:\n",
    "    model_config = deepcopy(ModelCfg_ns.three_leads)\n",
    "elif train_config.n_leads == 2:\n",
    "    model_config = deepcopy(ModelCfg_ns.two_leads)\n",
    "model_config.cnn.name = train_config.cnn_name\n",
    "model_config.rnn.name = train_config.rnn_name\n",
    "model_config.attn.name = train_config.attn_name"
   ]
  },
  {
   "cell_type": "code",
   "execution_count": null,
   "id": "c45182ef",
   "metadata": {},
   "outputs": [],
   "source": [
    "model = ECG_CRNN_CINC2021(\n",
    "    classes=train_config.classes,\n",
    "    n_leads=train_config.n_leads,\n",
    "    config=model_config,\n",
    ")"
   ]
  },
  {
   "cell_type": "code",
   "execution_count": null,
   "id": "8a6feb48",
   "metadata": {},
   "outputs": [],
   "source": [
    "model.module_size_"
   ]
  },
  {
   "cell_type": "code",
   "execution_count": null,
   "id": "f60962bb",
   "metadata": {},
   "outputs": [],
   "source": [
    "if torch.cuda.device_count() > 1:\n",
    "    model = DP(model)\n",
    "    # model = DDP(model)\n",
    "model.to(device=device)"
   ]
  },
  {
   "cell_type": "code",
   "execution_count": null,
   "id": "f3cdb4d4",
   "metadata": {},
   "outputs": [],
   "source": [
    "trainer = CINC2021Trainer(\n",
    "    model=model,\n",
    "    model_config=model_config,\n",
    "    train_config=train_config,\n",
    "    device=device,\n",
    "    lazy=True,\n",
    ")"
   ]
  },
  {
   "cell_type": "code",
   "execution_count": null,
   "id": "6d123752",
   "metadata": {},
   "outputs": [],
   "source": [
    "trainer._setup_dataloaders(ds_train, ds_val)"
   ]
  },
  {
   "cell_type": "code",
   "execution_count": null,
   "id": "f198da07",
   "metadata": {},
   "outputs": [],
   "source": [
    "trainer.train()"
   ]
  },
  {
   "cell_type": "code",
   "execution_count": null,
   "id": "58b7d99a",
   "metadata": {},
   "outputs": [],
   "source": [
    "del trainer\n",
    "import logging\n",
    "logging.shutdown()\n",
    "del model"
   ]
  },
  {
   "cell_type": "code",
   "execution_count": null,
   "id": "95158f83",
   "metadata": {},
   "outputs": [],
   "source": []
  },
  {
   "cell_type": "code",
   "execution_count": null,
   "id": "61a48701",
   "metadata": {},
   "outputs": [],
   "source": []
  },
  {
   "cell_type": "markdown",
   "id": "3f3903a1",
   "metadata": {},
   "source": [
    "## 12 lead, tresnetF, lstm, se, 2-linears, AsymmetricLoss, lr=1e-4 to 2e-3, one cycle(finished)"
   ]
  },
  {
   "cell_type": "code",
   "execution_count": null,
   "id": "8ea36f6f",
   "metadata": {},
   "outputs": [],
   "source": [
    "train_config = deepcopy(TrainCfg_ns)\n",
    "train_config.rnn_name = \"lstm\"\n",
    "train_config.cnn_name = \"tresnetF\"\n",
    "\n",
    "device = torch.device(\"cuda\" if torch.cuda.is_available() else \"cpu\")\n",
    "\n",
    "train_config.n_leads = len(train_config.leads)\n",
    "\n",
    "tranches = train_config.tranches_for_training\n",
    "if tranches:\n",
    "    classes = train_config.tranche_classes[tranches]\n",
    "else:\n",
    "    classes = train_config.classes\n",
    "\n",
    "if train_config.n_leads == 12:\n",
    "    model_config = deepcopy(ModelCfg_ns.twelve_leads)\n",
    "elif train_config.n_leads == 6:\n",
    "    model_config = deepcopy(ModelCfg_ns.six_leads)\n",
    "elif train_config.n_leads == 4:\n",
    "    model_config = deepcopy(ModelCfg_ns.four_leads)\n",
    "elif train_config.n_leads == 3:\n",
    "    model_config = deepcopy(ModelCfg_ns.three_leads)\n",
    "elif train_config.n_leads == 2:\n",
    "    model_config = deepcopy(ModelCfg_ns.two_leads)\n",
    "model_config.cnn.name = train_config.cnn_name\n",
    "model_config.rnn.name = train_config.rnn_name\n",
    "model_config.attn.name = train_config.attn_name"
   ]
  },
  {
   "cell_type": "code",
   "execution_count": null,
   "id": "56d64221",
   "metadata": {},
   "outputs": [],
   "source": [
    "model = ECG_CRNN_CINC2021(\n",
    "    classes=train_config.classes,\n",
    "    n_leads=train_config.n_leads,\n",
    "    config=model_config,\n",
    ")"
   ]
  },
  {
   "cell_type": "code",
   "execution_count": null,
   "id": "c05f15a7",
   "metadata": {},
   "outputs": [],
   "source": [
    "model.module_size_"
   ]
  },
  {
   "cell_type": "code",
   "execution_count": null,
   "id": "88b14ae0",
   "metadata": {},
   "outputs": [],
   "source": [
    "if torch.cuda.device_count() > 1:\n",
    "    model = DP(model)\n",
    "    # model = DDP(model)\n",
    "model.to(device=device)"
   ]
  },
  {
   "cell_type": "code",
   "execution_count": null,
   "id": "414be9ac",
   "metadata": {},
   "outputs": [],
   "source": [
    "trainer = CINC2021Trainer(\n",
    "    model=model,\n",
    "    model_config=model_config,\n",
    "    train_config=train_config,\n",
    "    device=device,\n",
    "    lazy=True,\n",
    ")"
   ]
  },
  {
   "cell_type": "code",
   "execution_count": null,
   "id": "84dab3bb",
   "metadata": {},
   "outputs": [],
   "source": [
    "trainer._setup_dataloaders(ds_train, ds_val)"
   ]
  },
  {
   "cell_type": "code",
   "execution_count": null,
   "id": "3cde0256",
   "metadata": {},
   "outputs": [],
   "source": [
    "trainer.train()"
   ]
  },
  {
   "cell_type": "code",
   "execution_count": null,
   "id": "38d02978",
   "metadata": {},
   "outputs": [],
   "source": []
  },
  {
   "cell_type": "code",
   "execution_count": null,
   "id": "a28dac42",
   "metadata": {},
   "outputs": [],
   "source": [
    "del trainer\n",
    "import logging\n",
    "logging.shutdown()\n",
    "del model"
   ]
  },
  {
   "cell_type": "code",
   "execution_count": null,
   "id": "376d5b64",
   "metadata": {},
   "outputs": [],
   "source": []
  },
  {
   "cell_type": "code",
   "execution_count": null,
   "id": "51311204",
   "metadata": {},
   "outputs": [],
   "source": [
    "from cfg import six_leads, four_leads, three_leads, two_leads"
   ]
  },
  {
   "cell_type": "markdown",
   "id": "5b0b7da7",
   "metadata": {},
   "source": [
    "## 4 leads, resnet_nature_comm_se, lstm, se, 2-linears, AsymmetricLoss, lr=1e-4 to 2e-3, one cycle"
   ]
  },
  {
   "cell_type": "code",
   "execution_count": null,
   "id": "6c0365f0",
   "metadata": {},
   "outputs": [],
   "source": [
    "train_config = deepcopy(TrainCfg_ns)\n",
    "train_config.rnn_name = \"lstm\"\n",
    "train_config.leads = deepcopy(four_leads)\n",
    "\n",
    "device = torch.device(\"cuda\" if torch.cuda.is_available() else \"cpu\")\n",
    "\n",
    "train_config.n_leads = len(train_config.leads)\n",
    "\n",
    "tranches = train_config.tranches_for_training\n",
    "if tranches:\n",
    "    classes = train_config.tranche_classes[tranches]\n",
    "else:\n",
    "    classes = train_config.classes\n",
    "\n",
    "if train_config.n_leads == 12:\n",
    "    model_config = deepcopy(ModelCfg_ns.twelve_leads)\n",
    "elif train_config.n_leads == 6:\n",
    "    model_config = deepcopy(ModelCfg_ns.six_leads)\n",
    "elif train_config.n_leads == 4:\n",
    "    model_config = deepcopy(ModelCfg_ns.four_leads)\n",
    "elif train_config.n_leads == 3:\n",
    "    model_config = deepcopy(ModelCfg_ns.three_leads)\n",
    "elif train_config.n_leads == 2:\n",
    "    model_config = deepcopy(ModelCfg_ns.two_leads)\n",
    "model_config.cnn.name = train_config.cnn_name\n",
    "model_config.rnn.name = train_config.rnn_name\n",
    "model_config.attn.name = train_config.attn_name"
   ]
  },
  {
   "cell_type": "code",
   "execution_count": null,
   "id": "9e898a4d",
   "metadata": {
    "scrolled": true
   },
   "outputs": [],
   "source": [
    "model = ECG_CRNN_CINC2021(\n",
    "    classes=train_config.classes,\n",
    "    n_leads=train_config.n_leads,\n",
    "    config=model_config,\n",
    ")"
   ]
  },
  {
   "cell_type": "code",
   "execution_count": null,
   "id": "8fc6c7e3",
   "metadata": {},
   "outputs": [],
   "source": [
    "model.module_size_"
   ]
  },
  {
   "cell_type": "code",
   "execution_count": null,
   "id": "48528bf5",
   "metadata": {},
   "outputs": [],
   "source": [
    "if torch.cuda.device_count() > 1:\n",
    "    model = DP(model)\n",
    "    # model = DDP(model)\n",
    "model.to(device=device)"
   ]
  },
  {
   "cell_type": "code",
   "execution_count": null,
   "id": "b91597e0",
   "metadata": {},
   "outputs": [],
   "source": [
    "trainer = CINC2021Trainer(\n",
    "    model=model,\n",
    "    model_config=model_config,\n",
    "    train_config=train_config,\n",
    "    device=device,\n",
    "    lazy=True,\n",
    ")"
   ]
  },
  {
   "cell_type": "code",
   "execution_count": null,
   "id": "232e1e75",
   "metadata": {},
   "outputs": [],
   "source": [
    "ds_train.to(four_leads)\n",
    "ds_val.to(four_leads)"
   ]
  },
  {
   "cell_type": "code",
   "execution_count": null,
   "id": "948d0b29",
   "metadata": {},
   "outputs": [],
   "source": [
    "trainer._setup_dataloaders(ds_train, ds_val)"
   ]
  },
  {
   "cell_type": "code",
   "execution_count": null,
   "id": "05e7369e",
   "metadata": {
    "scrolled": true
   },
   "outputs": [],
   "source": [
    "trainer.train()"
   ]
  },
  {
   "cell_type": "code",
   "execution_count": null,
   "id": "8b885a21",
   "metadata": {},
   "outputs": [],
   "source": [
    "del trainer\n",
    "import logging\n",
    "logging.shutdown()\n",
    "del model\n",
    "del _"
   ]
  },
  {
   "cell_type": "code",
   "execution_count": null,
   "id": "58d7ceed",
   "metadata": {},
   "outputs": [],
   "source": []
  },
  {
   "cell_type": "code",
   "execution_count": null,
   "id": "7cad1dd5",
   "metadata": {},
   "outputs": [],
   "source": []
  },
  {
   "cell_type": "markdown",
   "id": "9674dede",
   "metadata": {},
   "source": [
    "## 3 leads, resnet_nature_comm_se, lstm, se, 2-linears, AsymmetricLoss, lr=1e-4 to 2e-3, one cycle"
   ]
  },
  {
   "cell_type": "code",
   "execution_count": null,
   "id": "eceb43a8",
   "metadata": {},
   "outputs": [],
   "source": [
    "train_config = deepcopy(TrainCfg_ns)\n",
    "train_config.rnn_name = \"lstm\"\n",
    "train_config.leads = deepcopy(three_leads)\n",
    "\n",
    "device = torch.device(\"cuda\" if torch.cuda.is_available() else \"cpu\")\n",
    "\n",
    "train_config.n_leads = len(train_config.leads)\n",
    "\n",
    "tranches = train_config.tranches_for_training\n",
    "if tranches:\n",
    "    classes = train_config.tranche_classes[tranches]\n",
    "else:\n",
    "    classes = train_config.classes\n",
    "\n",
    "if train_config.n_leads == 12:\n",
    "    model_config = deepcopy(ModelCfg_ns.twelve_leads)\n",
    "elif train_config.n_leads == 6:\n",
    "    model_config = deepcopy(ModelCfg_ns.six_leads)\n",
    "elif train_config.n_leads == 4:\n",
    "    model_config = deepcopy(ModelCfg_ns.four_leads)\n",
    "elif train_config.n_leads == 3:\n",
    "    model_config = deepcopy(ModelCfg_ns.three_leads)\n",
    "elif train_config.n_leads == 2:\n",
    "    model_config = deepcopy(ModelCfg_ns.two_leads)\n",
    "model_config.cnn.name = train_config.cnn_name\n",
    "model_config.rnn.name = train_config.rnn_name\n",
    "model_config.attn.name = train_config.attn_name"
   ]
  },
  {
   "cell_type": "code",
   "execution_count": null,
   "id": "348f137b",
   "metadata": {
    "scrolled": true
   },
   "outputs": [],
   "source": [
    "model = ECG_CRNN_CINC2021(\n",
    "    classes=train_config.classes,\n",
    "    n_leads=train_config.n_leads,\n",
    "    config=model_config,\n",
    ")"
   ]
  },
  {
   "cell_type": "code",
   "execution_count": null,
   "id": "1f3c07c8",
   "metadata": {},
   "outputs": [],
   "source": [
    "model.module_size_"
   ]
  },
  {
   "cell_type": "code",
   "execution_count": null,
   "id": "905d4d3c",
   "metadata": {},
   "outputs": [],
   "source": [
    "if torch.cuda.device_count() > 1:\n",
    "    model = DP(model)\n",
    "    # model = DDP(model)\n",
    "model.to(device=device)"
   ]
  },
  {
   "cell_type": "code",
   "execution_count": null,
   "id": "1ce4832f",
   "metadata": {},
   "outputs": [],
   "source": [
    "trainer = CINC2021Trainer(\n",
    "    model=model,\n",
    "    model_config=model_config,\n",
    "    train_config=train_config,\n",
    "    device=device,\n",
    "    lazy=True,\n",
    ")"
   ]
  },
  {
   "cell_type": "code",
   "execution_count": null,
   "id": "96aee01a",
   "metadata": {},
   "outputs": [],
   "source": [
    "ds_train.to(three_leads)\n",
    "ds_val.to(three_leads)"
   ]
  },
  {
   "cell_type": "code",
   "execution_count": null,
   "id": "b254e10b",
   "metadata": {},
   "outputs": [],
   "source": [
    "trainer._setup_dataloaders(ds_train, ds_val)"
   ]
  },
  {
   "cell_type": "code",
   "execution_count": null,
   "id": "0c5c4ffe",
   "metadata": {},
   "outputs": [],
   "source": [
    "trainer.train()"
   ]
  },
  {
   "cell_type": "code",
   "execution_count": null,
   "id": "4f4bfec3",
   "metadata": {},
   "outputs": [],
   "source": [
    "\n",
    "import logging\n",
    "logging.shutdown()\n",
    "del trainer\n",
    "del model\n",
    "del _"
   ]
  },
  {
   "cell_type": "code",
   "execution_count": null,
   "id": "1810eca4",
   "metadata": {},
   "outputs": [],
   "source": []
  },
  {
   "cell_type": "code",
   "execution_count": null,
   "id": "63353018",
   "metadata": {},
   "outputs": [],
   "source": []
  },
  {
   "cell_type": "markdown",
   "id": "df6eaa90",
   "metadata": {},
   "source": [
    "## 2 leads, resnet_nature_comm_se, lstm, se, 2-linears, AsymmetricLoss, lr=1e-4 to 2e-3, one cycle"
   ]
  },
  {
   "cell_type": "code",
   "execution_count": null,
   "id": "6f17a3b5",
   "metadata": {},
   "outputs": [],
   "source": [
    "train_config = deepcopy(TrainCfg_ns)\n",
    "train_config.rnn_name = \"lstm\"\n",
    "train_config.leads = deepcopy(two_leads)\n",
    "\n",
    "device = torch.device(\"cuda\" if torch.cuda.is_available() else \"cpu\")\n",
    "\n",
    "train_config.n_leads = len(train_config.leads)\n",
    "\n",
    "tranches = train_config.tranches_for_training\n",
    "if tranches:\n",
    "    classes = train_config.tranche_classes[tranches]\n",
    "else:\n",
    "    classes = train_config.classes\n",
    "\n",
    "if train_config.n_leads == 12:\n",
    "    model_config = deepcopy(ModelCfg_ns.twelve_leads)\n",
    "elif train_config.n_leads == 6:\n",
    "    model_config = deepcopy(ModelCfg_ns.six_leads)\n",
    "elif train_config.n_leads == 4:\n",
    "    model_config = deepcopy(ModelCfg_ns.four_leads)\n",
    "elif train_config.n_leads == 3:\n",
    "    model_config = deepcopy(ModelCfg_ns.three_leads)\n",
    "elif train_config.n_leads == 2:\n",
    "    model_config = deepcopy(ModelCfg_ns.two_leads)\n",
    "model_config.cnn.name = train_config.cnn_name\n",
    "model_config.rnn.name = train_config.rnn_name\n",
    "model_config.attn.name = train_config.attn_name"
   ]
  },
  {
   "cell_type": "code",
   "execution_count": null,
   "id": "eb4dd090",
   "metadata": {},
   "outputs": [],
   "source": [
    "model = ECG_CRNN_CINC2021(\n",
    "    classes=train_config.classes,\n",
    "    n_leads=train_config.n_leads,\n",
    "    config=model_config,\n",
    ")"
   ]
  },
  {
   "cell_type": "code",
   "execution_count": null,
   "id": "e8fbb1d4",
   "metadata": {},
   "outputs": [],
   "source": [
    "model.module_size_"
   ]
  },
  {
   "cell_type": "code",
   "execution_count": null,
   "id": "085fe34c",
   "metadata": {},
   "outputs": [],
   "source": [
    "if torch.cuda.device_count() > 1:\n",
    "    model = DP(model)\n",
    "    # model = DDP(model)\n",
    "model.to(device=device)"
   ]
  },
  {
   "cell_type": "code",
   "execution_count": null,
   "id": "f5f05ffb",
   "metadata": {},
   "outputs": [],
   "source": [
    "trainer = CINC2021Trainer(\n",
    "    model=model,\n",
    "    model_config=model_config,\n",
    "    train_config=train_config,\n",
    "    device=device,\n",
    "    lazy=True,\n",
    ")"
   ]
  },
  {
   "cell_type": "code",
   "execution_count": null,
   "id": "c30890e6",
   "metadata": {},
   "outputs": [],
   "source": [
    "ds_train.to(two_leads)\n",
    "ds_val.to(two_leads)"
   ]
  },
  {
   "cell_type": "code",
   "execution_count": null,
   "id": "e960c510",
   "metadata": {},
   "outputs": [],
   "source": [
    "trainer._setup_dataloaders(ds_train, ds_val)"
   ]
  },
  {
   "cell_type": "code",
   "execution_count": null,
   "id": "ef5c7afc",
   "metadata": {},
   "outputs": [],
   "source": [
    "trainer.train()"
   ]
  },
  {
   "cell_type": "code",
   "execution_count": null,
   "id": "9fd43d98",
   "metadata": {},
   "outputs": [],
   "source": [
    "del trainer\n",
    "import logging\n",
    "logging.shutdown()\n",
    "del model\n",
    "del _"
   ]
  },
  {
   "cell_type": "code",
   "execution_count": null,
   "id": "b15811c8",
   "metadata": {},
   "outputs": [],
   "source": []
  },
  {
   "cell_type": "code",
   "execution_count": null,
   "id": "bc5b5951",
   "metadata": {},
   "outputs": [],
   "source": []
  }
 ],
 "metadata": {
  "kernelspec": {
   "display_name": "Python 3",
   "language": "python",
   "name": "python3"
  },
  "language_info": {
   "codemirror_mode": {
    "name": "ipython",
    "version": 3
   },
   "file_extension": ".py",
   "mimetype": "text/x-python",
   "name": "python",
   "nbconvert_exporter": "python",
   "pygments_lexer": "ipython3",
   "version": "3.6.9"
  }
 },
 "nbformat": 4,
 "nbformat_minor": 5
}
