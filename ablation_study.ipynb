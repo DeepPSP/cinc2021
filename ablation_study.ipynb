{
 "cells": [
  {
   "cell_type": "code",
   "execution_count": null,
   "id": "46a0579c",
   "metadata": {},
   "outputs": [],
   "source": [
    "import numpy as np\n",
    "# ^^^ pyforest auto-imports - don't write above this line\n",
    "from copy import deepcopy\n",
    "from tqdm.auto import tqdm\n",
    "from cfg import TrainCfg, TrainCfg_ns, ModelCfg, ModelCfg_ns\n",
    "from model import ECG_CRNN_CINC2021\n",
    "from dataset import CINC2021\n",
    "from torch_ecg.model_configs.cnn import resnet_nature_comm_bottle_neck_se\n",
    "import seaborn as sns\n",
    "from gather_results import gather_from_checkpoint, test_inference_speed\n",
    "\n",
    "from cfg import twelve_leads, six_leads, four_leads, three_leads, two_leads\n",
    "\n",
    "import time\n",
    "\n",
    "%load_ext autoreload\n",
    "%autoreload 2"
   ]
  },
  {
   "cell_type": "code",
   "execution_count": null,
   "id": "8dfc1f09",
   "metadata": {},
   "outputs": [],
   "source": [
    "from scipy.signal import buttord"
   ]
  },
  {
   "cell_type": "code",
   "execution_count": null,
   "id": "8cb8902e",
   "metadata": {},
   "outputs": [],
   "source": [
    "from matplotlib.pyplot import cm\n",
    "sns.set()"
   ]
  },
  {
   "cell_type": "code",
   "execution_count": null,
   "id": "970917dd",
   "metadata": {},
   "outputs": [],
   "source": [
    "colors = plt.rcParams['axes.prop_cycle'].by_key()['color']\n",
    "markers = [\"+\", \"v\", \"x\", \"*\", \"p\", \"d\", \"s\", \"$\\heartsuit$\"]"
   ]
  },
  {
   "cell_type": "code",
   "execution_count": null,
   "id": "b2659beb",
   "metadata": {},
   "outputs": [],
   "source": [
    "marker_size = 9\n",
    "plt.rcParams['xtick.labelsize']=28\n",
    "plt.rcParams['ytick.labelsize']=28\n",
    "plt.rcParams['axes.labelsize']=40\n",
    "plt.rcParams['legend.fontsize']=24"
   ]
  },
  {
   "cell_type": "code",
   "execution_count": null,
   "id": "cc7fe858",
   "metadata": {},
   "outputs": [],
   "source": [
    "# plt.rcParams"
   ]
  },
  {
   "cell_type": "code",
   "execution_count": null,
   "id": "8a0f05eb",
   "metadata": {},
   "outputs": [],
   "source": []
  },
  {
   "cell_type": "code",
   "execution_count": null,
   "id": "449f2169",
   "metadata": {},
   "outputs": [],
   "source": []
  },
  {
   "cell_type": "markdown",
   "id": "ceba9580",
   "metadata": {},
   "source": [
    "## post challenge results"
   ]
  },
  {
   "cell_type": "code",
   "execution_count": null,
   "id": "d1a46bf1",
   "metadata": {},
   "outputs": [],
   "source": [
    "df_pcr = pd.read_csv(\"./official_results/Post_Challenge_PMEA_test_results.csv\")"
   ]
  },
  {
   "cell_type": "code",
   "execution_count": null,
   "id": "c058bfdc",
   "metadata": {
    "scrolled": true
   },
   "outputs": [],
   "source": [
    "df_pcr"
   ]
  },
  {
   "cell_type": "code",
   "execution_count": null,
   "id": "ff2b75c7",
   "metadata": {},
   "outputs": [],
   "source": [
    "sources = [\"Total Test\", \"training\", \"validation\", \"CPSC2\", \"G12EC\", \"UMich\", \"Undisclosed\",]"
   ]
  },
  {
   "cell_type": "code",
   "execution_count": null,
   "id": "02bfcaca",
   "metadata": {},
   "outputs": [],
   "source": [
    "fig, ax = plt.subplots(figsize=(16,12))\n",
    "# for idx, (source, df_s) in enumerate(df_pcr.groupby(\"Data Source\")):\n",
    "for idx, source in enumerate(sources):\n",
    "    df_s = df_pcr[df_pcr[\"Data Source\"]==source]\n",
    "    df_s = df_s.sort_values(\"Lead Combination\", ascending=False).reset_index(drop=True)\n",
    "    if idx > 0:\n",
    "        ls = \"--\"\n",
    "        markersize = marker_size\n",
    "        linewidth = 2\n",
    "    else:\n",
    "        ls = \"-\"\n",
    "        markersize = marker_size + 4\n",
    "        linewidth = 4\n",
    "    ax.plot(\n",
    "        df_s[\"Challenge Metric\"],\n",
    "        c=colors[idx],\n",
    "        marker=markers[idx],\n",
    "        markersize=markersize,\n",
    "        label=source,\n",
    "        ls=ls,\n",
    "        linewidth=linewidth,\n",
    "    )\n",
    "ax.set_ylim(0,1)\n",
    "ax.set_xlabel(\"Lead-Set\")\n",
    "ax.set_xticks(np.arange(5))\n",
    "ax.set_xticklabels([f\"{l}-leads\" for l in [12,6,4,3,2]], rotation=20)\n",
    "ax.tick_params(axis = 'both')\n",
    "ax.set_ylabel(\"Challenge Metric (n.u.)\")\n",
    "ax.legend(loc=\"best\", ncol=3)\n",
    "\n",
    "plt.savefig(\"./images/post-challenge.svg\", dpi=1200, bbox_inches=\"tight\", transparent=False)\n",
    "plt.savefig(\"./images/post-challenge.pdf\", dpi=1200, bbox_inches=\"tight\", transparent=False)"
   ]
  },
  {
   "cell_type": "code",
   "execution_count": null,
   "id": "c2716a6b",
   "metadata": {},
   "outputs": [],
   "source": []
  },
  {
   "cell_type": "code",
   "execution_count": null,
   "id": "99871c7e",
   "metadata": {},
   "outputs": [],
   "source": []
  },
  {
   "cell_type": "code",
   "execution_count": null,
   "id": "f8fdc1b4",
   "metadata": {},
   "outputs": [],
   "source": []
  },
  {
   "cell_type": "code",
   "execution_count": null,
   "id": "89fe54bb",
   "metadata": {},
   "outputs": [],
   "source": []
  },
  {
   "cell_type": "markdown",
   "id": "6fa35a27",
   "metadata": {},
   "source": [
    "# pre-load datasets"
   ]
  },
  {
   "cell_type": "code",
   "execution_count": null,
   "id": "a697a946",
   "metadata": {
    "scrolled": true
   },
   "outputs": [],
   "source": [
    "# ds_val = CINC2021(TrainCfg_ns, training=False, lazy=False)"
   ]
  },
  {
   "cell_type": "code",
   "execution_count": null,
   "id": "d206ae4e",
   "metadata": {
    "scrolled": true
   },
   "outputs": [],
   "source": [
    "ds_train = CINC2021(TrainCfg_ns, training=True, lazy=True)"
   ]
  },
  {
   "cell_type": "code",
   "execution_count": null,
   "id": "29b4e0c6",
   "metadata": {},
   "outputs": [],
   "source": [
    "# ds_train._load_all_data()"
   ]
  },
  {
   "cell_type": "code",
   "execution_count": null,
   "id": "7b380252",
   "metadata": {},
   "outputs": [],
   "source": [
    "ECG_CRNN_CINC2021.__DEBUG__ = False"
   ]
  },
  {
   "cell_type": "code",
   "execution_count": null,
   "id": "fcaa46b6",
   "metadata": {},
   "outputs": [],
   "source": []
  },
  {
   "cell_type": "code",
   "execution_count": null,
   "id": "6841b6bc",
   "metadata": {},
   "outputs": [],
   "source": [
    "from torch_ecg.utils.misc import dict_to_str, get_record_list_recursive3"
   ]
  },
  {
   "cell_type": "code",
   "execution_count": null,
   "id": "d6219267",
   "metadata": {},
   "outputs": [],
   "source": [
    "from gather_results import append_model_config_if_needed"
   ]
  },
  {
   "cell_type": "code",
   "execution_count": null,
   "id": "0ba820b6",
   "metadata": {},
   "outputs": [],
   "source": [
    "from gather_results import gather_from_checkpoint\n",
    "from dataset import CINC2021\n",
    "\n",
    "%load_ext autoreload\n",
    "%autoreload 2"
   ]
  },
  {
   "cell_type": "code",
   "execution_count": null,
   "id": "1623de4e",
   "metadata": {},
   "outputs": [],
   "source": [
    "from torch_ecg.utils.misc import MovingAverage"
   ]
  },
  {
   "cell_type": "code",
   "execution_count": null,
   "id": "fe0b97c1",
   "metadata": {},
   "outputs": [],
   "source": [
    "ma = MovingAverage()"
   ]
  },
  {
   "cell_type": "code",
   "execution_count": null,
   "id": "d7fbe70e",
   "metadata": {},
   "outputs": [],
   "source": []
  },
  {
   "cell_type": "code",
   "execution_count": null,
   "id": "0adbd5c2",
   "metadata": {
    "scrolled": true
   },
   "outputs": [],
   "source": [
    "append_model_config_if_needed()"
   ]
  },
  {
   "cell_type": "code",
   "execution_count": null,
   "id": "3b671489",
   "metadata": {},
   "outputs": [],
   "source": []
  },
  {
   "cell_type": "code",
   "execution_count": null,
   "id": "526cbafe",
   "metadata": {},
   "outputs": [],
   "source": []
  },
  {
   "cell_type": "code",
   "execution_count": null,
   "id": "537f1516",
   "metadata": {},
   "outputs": [],
   "source": []
  },
  {
   "cell_type": "markdown",
   "id": "0df74dba",
   "metadata": {},
   "source": [
    "# gather statistics"
   ]
  },
  {
   "cell_type": "code",
   "execution_count": null,
   "id": "e179f110",
   "metadata": {},
   "outputs": [],
   "source": [
    "results_dir = os.path.join(os.path.dirname(TrainCfg.log_dir), \"results\")\n",
    "results_dir"
   ]
  },
  {
   "cell_type": "code",
   "execution_count": null,
   "id": "898bacab",
   "metadata": {},
   "outputs": [],
   "source": [
    "l_csv = [\n",
    "    os.path.join(results_dir,item+\".csv\") \\\n",
    "    for item in get_record_list_recursive3(\"/home/wenhao/Jupyter/wenhao/workspace/cinc2021/results/\", \"TorchECG.*\\.csv\")\n",
    "]"
   ]
  },
  {
   "cell_type": "code",
   "execution_count": null,
   "id": "399b6feb",
   "metadata": {},
   "outputs": [],
   "source": [
    "eval_models = True"
   ]
  },
  {
   "cell_type": "code",
   "execution_count": null,
   "id": "799fa1e9",
   "metadata": {
    "scrolled": true
   },
   "outputs": [],
   "source": [
    "res = {}\n",
    "# with tqdm(l_csv) as t:\n",
    "for fp in t:\n",
    "    df_fp = pd.read_csv(fp)\n",
    "    zs = \"\"\n",
    "    ls = \"\"\n",
    "    lr = \"-adaptive\"\n",
    "    loss = \"-bce\"\n",
    "    mixup = \"\"\n",
    "    cnn_name = \"\"\n",
    "    rnn_name = \"\"\n",
    "    attn_name = \"\"\n",
    "    bp = \"\"\n",
    "    with open(fp.replace(\"csv\", \"txt\"), \"r\") as txt:\n",
    "        lines = txt.read().splitlines()[-1000:]\n",
    "    model_fp = None\n",
    "    for l in lines:\n",
    "        tmp = re.findall(\"/.*BestModel.*\\.pth\\.tar\", l)\n",
    "        if len(tmp) > 0:\n",
    "            model_fp = tmp[0]\n",
    "    if model_fp is None:\n",
    "        print(f\"{fp} has no corr. model\")\n",
    "        continue\n",
    "    model, train_cfg = ECG_CRNN_CINC2021.from_checkpoint(model_fp)\n",
    "    \n",
    "    print(\"model loaded from checkpoint\")\n",
    "    \n",
    "    if \"normalize\" in train_cfg:\n",
    "        zs = \"-zscore\"\n",
    "    if \"mixup\" in train_cfg:\n",
    "        mixup = \"-mixup\"\n",
    "    if \"label_smooth\" in train_cfg and train_cfg[\"label_smooth\"]:\n",
    "        ls = \"-label_smooth\"\n",
    "    if train_cfg[\"loss\"] == \"AsymmetricLoss\":\n",
    "        loss = \"-asymmetric\"\n",
    "    if train_cfg[\"lr_scheduler\"] in [\"one_cycle\", \"onecycle\"]:\n",
    "        lr = \"-onecycle\"\n",
    "    if train_cfg[\"bandpass\"] is None:\n",
    "        bp = \"-no_bp\"\n",
    "    cnn_name = model.config.cnn.name\n",
    "    if model.config.rnn.name != \"none\":\n",
    "        rnn_name = \"-\"+model.config.rnn.name\n",
    "    if model.config.attn.name != \"none\":\n",
    "        attn_name = \"-\"+model.config.attn.name\n",
    "    n_linear = len([m for m in model.clf if m.__class__.__name__=='Linear'])\n",
    "    clf = f\"-{n_linear}linear\"\n",
    "    name = f\"{cnn_name}{rnn_name}{attn_name}{clf}{zs}{ls}{mixup}{loss}{lr}{bp}\"\n",
    "\n",
    "    train_loss = df_fp[df_fp.part==\"train\"][[\"epoch\", \"step\", \"loss\", \"time\"]].dropna()\n",
    "    train_cm = df_fp[df_fp.part==\"train\"][[\"epoch\", \"step\", \"challenge_metric\"]].dropna()\n",
    "    val_cm = df_fp[df_fp.part==\"val\"][[\"epoch\", \"step\", \"challenge_metric\"]].dropna()\n",
    "\n",
    "    time_used = []\n",
    "    for ep, df_gp in train_loss.groupby(\"epoch\"):\n",
    "        time_used.append(np.diff(pd.to_datetime(df_gp[\"time\"]).values))\n",
    "    time_used = np.concatenate(time_used)/np.timedelta64(1, 's')\n",
    "    \n",
    "    print(\"stats gathered\")\n",
    "    \n",
    "    time.sleep(5)\n",
    "\n",
    "    if eval_models:\n",
    "        if len(train_cfg.leads) < 12:\n",
    "            ds_use = CINC2021.from_extern(ds_train, train_cfg)\n",
    "        else:\n",
    "            ds_use = ds_train\n",
    "            \n",
    "        time.sleep(5)\n",
    "\n",
    "        inf_speed = test_inference_speed(model_fp, ds_use)\n",
    "    else:\n",
    "        inf_speed = np.nan\n",
    "\n",
    "    time.sleep(5)\n",
    "        \n",
    "    print(\"inference speed computed\")\n",
    "\n",
    "    res[fp] = {\n",
    "        \"folder\": list(filter(lambda s: len(s)>0, os.path.dirname(fp).split(os.path.sep)))[-1],\n",
    "        \"name\": name,\n",
    "        \"cnn_name\": model.config.cnn.name,\n",
    "        \"rnn_name\": model.config.rnn.name,\n",
    "        \"attn_name\": model.config.attn.name,\n",
    "        \"n_linear\": n_linear,\n",
    "        \"n_leads\": len(train_cfg.leads),\n",
    "        \"train_loss\": train_loss,\n",
    "        \"train_cm\": train_cm,\n",
    "        \"val_cm\": val_cm,\n",
    "        \"size\": model.module_size,\n",
    "        \"size_h\": model.module_size_,\n",
    "        \"val_cm_max\": val_cm.challenge_metric.max(),\n",
    "        \"speed\": round((64*20/time_used).mean()),\n",
    "        \"inf_speed\": inf_speed,\n",
    "    }\n",
    "    del model\n",
    "    if eval_models:\n",
    "        if ds_use is not ds_train:\n",
    "            del ds_use\n",
    "        torch.cuda.empty_cache()\n",
    "    print(f\"{name} finished\")\n",
    "    print(\"#\"*80 + \"\\n\"*2)"
   ]
  },
  {
   "cell_type": "code",
   "execution_count": null,
   "id": "a1c4a312",
   "metadata": {},
   "outputs": [],
   "source": []
  },
  {
   "cell_type": "code",
   "execution_count": null,
   "id": "03b6a4df",
   "metadata": {},
   "outputs": [],
   "source": [
    "len(res)"
   ]
  },
  {
   "cell_type": "code",
   "execution_count": null,
   "id": "eb5b2ff0",
   "metadata": {},
   "outputs": [],
   "source": [
    "df_res = pd.DataFrame(res.values())"
   ]
  },
  {
   "cell_type": "code",
   "execution_count": null,
   "id": "b794bdce",
   "metadata": {
    "scrolled": true
   },
   "outputs": [],
   "source": [
    "df_res.name.values"
   ]
  },
  {
   "cell_type": "code",
   "execution_count": null,
   "id": "8a7a9edd",
   "metadata": {},
   "outputs": [],
   "source": [
    "df_res[\"efficiency\"] = df_res[\"val_cm_max\"] / df_res[\"size\"] * 1e8\n",
    "df_res[\"val_cm_max\"] = df_res[\"val_cm_max\"].apply(lambda s: round(s,4))\n",
    "df_res[\"size\"] = df_res[\"size\"].apply(lambda s: round(s/1000000, 2))\n",
    "df_res[\"efficiency\"] = df_res[\"efficiency\"].apply(lambda s: round(s,3))"
   ]
  },
  {
   "cell_type": "code",
   "execution_count": null,
   "id": "43c701cb",
   "metadata": {},
   "outputs": [],
   "source": [
    "df_res = df_res.sort_values(\"val_cm_max\", ascending=False).reset_index(drop=True)"
   ]
  },
  {
   "cell_type": "code",
   "execution_count": null,
   "id": "d6ea2118",
   "metadata": {
    "scrolled": true
   },
   "outputs": [],
   "source": [
    "df_res"
   ]
  },
  {
   "cell_type": "code",
   "execution_count": null,
   "id": "fb5cb891",
   "metadata": {},
   "outputs": [],
   "source": []
  },
  {
   "cell_type": "code",
   "execution_count": null,
   "id": "b1f19a07",
   "metadata": {},
   "outputs": [],
   "source": []
  },
  {
   "cell_type": "code",
   "execution_count": null,
   "id": "710bc77e",
   "metadata": {},
   "outputs": [],
   "source": []
  },
  {
   "cell_type": "markdown",
   "id": "684f7af6",
   "metadata": {},
   "source": [
    "# 5 sets of ablation studies"
   ]
  },
  {
   "cell_type": "code",
   "execution_count": null,
   "id": "e6287243",
   "metadata": {},
   "outputs": [],
   "source": []
  },
  {
   "cell_type": "code",
   "execution_count": null,
   "id": "9825107a",
   "metadata": {},
   "outputs": [],
   "source": [
    "df_aba_1 = df_res[df_res.name.str.startswith(\"resnet_nature_comm_se-lstm-se-2linear\") & (df_res.n_leads==12)].reset_index(drop=True)\n",
    "# df_aba_1 = df_aba_1.sort_values(\"val_cm_max\")"
   ]
  },
  {
   "cell_type": "code",
   "execution_count": null,
   "id": "d1fdb6b5",
   "metadata": {},
   "outputs": [],
   "source": [
    "df_aba_1"
   ]
  },
  {
   "cell_type": "code",
   "execution_count": null,
   "id": "1d047476",
   "metadata": {},
   "outputs": [],
   "source": [
    "df_aba_1.name.tolist()"
   ]
  },
  {
   "cell_type": "code",
   "execution_count": null,
   "id": "9e08ed6e",
   "metadata": {},
   "outputs": [],
   "source": []
  },
  {
   "cell_type": "code",
   "execution_count": null,
   "id": "619c671b",
   "metadata": {},
   "outputs": [],
   "source": [
    "fig, ax = plt.subplots(figsize=(16,12))\n",
    "for idx, row in df_aba_1.iterrows():\n",
    "    train_loss = row.train_loss\n",
    "    train_cm = row.train_cm\n",
    "    val_cm = row.val_cm\n",
    "    if \"bce\" in row[\"name\"]:\n",
    "        ax.plot([])\n",
    "        continue\n",
    "    label = row[\"name\"].replace(\"resnet_nature_comm_se-lstm-se-2linear-\", \"\")\n",
    "    ax.plot(\n",
    "        (train_loss.index.values*20)[::18], (ma(train_loss.loss, weight=0.6))[::18],\n",
    "        label=label,\n",
    "        c=colors[idx],\n",
    "        marker=markers[idx],\n",
    "        markersize=marker_size,\n",
    "    )\n",
    "ax.set_xlabel(\"Steps (n.u.)\")\n",
    "ax.set_ylabel(\"Loss (n.u.)\")\n",
    "ax.tick_params(axis = 'y', rotation = 45)\n",
    "ax.set_ylim(0,0.2)\n",
    "ax.legend(loc=\"upper right\")\n",
    "\n",
    "fig.tight_layout()\n",
    "\n",
    "plt.savefig(\"./images/abla1_loss.svg\", dpi=1200, bbox_inches=\"tight\", transparent=False)\n",
    "plt.savefig(\"./images/abla1_loss.pdf\", dpi=1200, bbox_inches=\"tight\", transparent=False)"
   ]
  },
  {
   "cell_type": "code",
   "execution_count": null,
   "id": "5abb8ea0",
   "metadata": {},
   "outputs": [],
   "source": [
    "fig, ax = plt.subplots(figsize=(16,16))\n",
    "belt1, belt2 = [], []\n",
    "for idx, row in df_aba_1.iterrows():\n",
    "    train_cm = row.train_cm\n",
    "    label = row[\"name\"].replace(\"resnet_nature_comm_se-lstm-se-2linear-\", \"train-\")\n",
    "    ax.plot(\n",
    "        train_cm.index.values*20, train_cm.challenge_metric,\n",
    "        label=label,\n",
    "        c=colors[idx],\n",
    "        marker=markers[idx],\n",
    "        markersize=marker_size,\n",
    "    )\n",
    "    if \"bce\" not in row[\"name\"]:\n",
    "        belt1.append(train_cm.challenge_metric.values)\n",
    "belt1 = np.array(belt1)\n",
    "for idx, row in df_aba_1.iterrows():\n",
    "    val_cm = row.val_cm\n",
    "    label = row[\"name\"].replace(\"resnet_nature_comm_se-lstm-se-2linear-\", \"val-\")\n",
    "    ax.plot(\n",
    "        val_cm.index.values*20, val_cm.challenge_metric,\n",
    "        ls='--',\n",
    "        label=label,\n",
    "        c=colors[idx],\n",
    "        marker=markers[idx],\n",
    "        markersize=marker_size,\n",
    "    )\n",
    "    if \"bce\" not in row[\"name\"]:\n",
    "        belt2.append(val_cm.challenge_metric.values)\n",
    "belt2 = np.array(belt2)\n",
    "ax.fill_between(train_cm.index.values*20, np.mean(belt1,axis=0)-0.06, np.mean(belt1,axis=0)+0.06, color='r', alpha=.15)\n",
    "ax.fill_between(train_cm.index.values*20, np.mean(belt2,axis=0)-0.028, np.mean(belt2,axis=0)+0.028, color='g', alpha=.2)\n",
    "ax.set_xlabel(\"Steps (n.u.)\")\n",
    "ax.set_ylabel(\"Challenge Metric (n.u.)\")\n",
    "ax.set_ylim(0.23,0.97)\n",
    "ax.legend(loc=\"lower right\", fontsize=20)\n",
    "\n",
    "fig.tight_layout()\n",
    "\n",
    "plt.savefig(\"./images/abla1_cm.pdf\", dpi=1200, bbox_inches=\"tight\")\n",
    "plt.savefig(\"./images/abla1_cm.svg\", dpi=1200, bbox_inches=\"tight\")"
   ]
  },
  {
   "cell_type": "code",
   "execution_count": null,
   "id": "76274de9",
   "metadata": {},
   "outputs": [],
   "source": []
  },
  {
   "cell_type": "code",
   "execution_count": null,
   "id": "1eacc621",
   "metadata": {},
   "outputs": [],
   "source": [
    "abla_2 = [\n",
    " 'resnet_nature_comm_se-lstm-se-2linear-zscore-mixup-asymmetric-onecycle',\n",
    " 'resnet_nature_comm_se-se-2linear-zscore-mixup-asymmetric-onecycle',\n",
    " 'resnet_nature_comm_se-2linear-zscore-mixup-asymmetric-onecycle',\n",
    " 'resnet_nature_comm_se-1linear-zscore-mixup-asymmetric-onecycle'\n",
    "]"
   ]
  },
  {
   "cell_type": "code",
   "execution_count": null,
   "id": "a0d6489d",
   "metadata": {},
   "outputs": [],
   "source": [
    "df_abla2 = df_res[(df_res.name.isin(abla_2)) & (df_res.n_leads==12)].reset_index(drop=True)"
   ]
  },
  {
   "cell_type": "code",
   "execution_count": null,
   "id": "55d852ad",
   "metadata": {},
   "outputs": [],
   "source": [
    "df_abla2"
   ]
  },
  {
   "cell_type": "code",
   "execution_count": null,
   "id": "94ae4cb9",
   "metadata": {},
   "outputs": [],
   "source": [
    "fig, ax = plt.subplots(figsize=(16,12))\n",
    "belt1, belt2 = np.full((len(abla_2),50), np.nan), np.full((len(abla_2),50), np.nan)\n",
    "for idx, row in df_abla2.iterrows():\n",
    "    train_cm = row.train_cm\n",
    "    ax.plot(\n",
    "        train_cm.index.values*20, train_cm.challenge_metric,\n",
    "        label=row[\"name\"].replace(\"resnet_nature_comm_se-\", \"train-\").replace(\"-zscore-mixup-asymmetric-onecycle\", \"\"),\n",
    "        c=colors[idx],\n",
    "        marker=markers[idx],\n",
    "        markersize=marker_size,\n",
    "    )\n",
    "    belt1[idx,:len(train_cm.challenge_metric)] = train_cm.challenge_metric.values\n",
    "for idx, row in df_abla2.iterrows():\n",
    "    val_cm = row.val_cm\n",
    "    ax.plot(\n",
    "        val_cm.index.values*20, val_cm.challenge_metric,\n",
    "        ls='--',\n",
    "        label=row[\"name\"].replace(\"resnet_nature_comm_se-\", \"val-\").replace(\"-zscore-mixup-asymmetric-onecycle\", \"\"),\n",
    "        c=colors[idx],\n",
    "        marker=markers[idx],\n",
    "        markersize=marker_size,\n",
    "    )\n",
    "    belt2[idx,:len(val_cm.challenge_metric)] = val_cm.challenge_metric.values\n",
    "ax.fill_between(train_cm.index.values*20, np.nanmean(belt1,axis=0)-0.06, np.nanmean(belt1,axis=0)+0.06, color='r', alpha=.15)\n",
    "ax.fill_between(train_cm.index.values*20, np.nanmean(belt2,axis=0)-0.032, np.nanmean(belt2,axis=0)+0.026, color='g', alpha=.2)\n",
    "ax.set_xlabel(\"Steps (n.u.)\")\n",
    "ax.set_ylabel(\"Challenge Metric (n.u.)\")\n",
    "ax.legend(loc=\"lower right\")\n",
    "ax.set_ylim(0.25,1)\n",
    "\n",
    "fig.tight_layout()\n",
    "\n",
    "plt.savefig(\"./images/abla2_cm.pdf\", dpi=1200, bbox_inches=\"tight\")\n",
    "plt.savefig(\"./images/abla2_cm.svg\", dpi=1200, bbox_inches=\"tight\")"
   ]
  },
  {
   "cell_type": "code",
   "execution_count": null,
   "id": "c30625ad",
   "metadata": {},
   "outputs": [],
   "source": []
  },
  {
   "cell_type": "code",
   "execution_count": null,
   "id": "8bdfdfb0",
   "metadata": {},
   "outputs": [],
   "source": []
  },
  {
   "cell_type": "code",
   "execution_count": null,
   "id": "b1974fbb",
   "metadata": {},
   "outputs": [],
   "source": [
    "abla_3 = ['resnet_nature_comm_se-lstm-se-2linear-zscore-mixup-asymmetric-onecycle',\n",
    " 'resnet_nature_comm_bottle_neck_se-lstm-se-2linear-zscore-mixup-asymmetric-onecycle',\n",
    " 'tresnetN-lstm-se-2linear-zscore-mixup-asymmetric-onecycle',\n",
    " 'tresnetP-lstm-se-2linear-zscore-mixup-asymmetric-onecycle',\n",
    " 'tresnetF-lstm-se-2linear-zscore-mixup-asymmetric-onecycle',\n",
    " 'multi_scopic-lstm-se-2linear-zscore-mixup-asymmetric-onecycle',\n",
    " 'multi_scopic_leadwise-lstm-se-2linear-zscore-mixup-asymmetric-onecycle',]"
   ]
  },
  {
   "cell_type": "code",
   "execution_count": null,
   "id": "b38398fc",
   "metadata": {},
   "outputs": [],
   "source": [
    "df_abla3 = df_res[(df_res.name.isin(abla_3)) & (df_res.n_leads==12) & (~df_res.folder.str.contains(\"1127|nas\"))].reset_index(drop=True)\n",
    "\n",
    "df_abla3[\"ordering\"] = df_abla3.name.apply(lambda s: abla_3.index(s))\n",
    "df_abla3 = df_abla3.sort_values(by=\"ordering\").reset_index(drop=True)"
   ]
  },
  {
   "cell_type": "code",
   "execution_count": null,
   "id": "f4f09e95",
   "metadata": {},
   "outputs": [],
   "source": [
    "df_abla3"
   ]
  },
  {
   "cell_type": "code",
   "execution_count": null,
   "id": "01e53965",
   "metadata": {},
   "outputs": [],
   "source": [
    "name_map = {\n",
    "    \"resnet_nature_comm_se\": \"ResNet_NC_SE\",\n",
    "    \"resnet_nature_comm_bottle_neck_gc\": \"ResNet_NC_BG\",\n",
    "    \"multi_scopic\": \"branched\",\n",
    "    \"multi_scopic_leadwise\": \"branched_leadwise\",\n",
    "    \"resnet_nature_comm_bottle_neck_se\": \"ResNet_NC_BS\",\n",
    "    \"tresnetN\": \"TResNet-N\",\n",
    "    \"tresnetP\": \"TResNet-P\",\n",
    "    \"tresnetF\": \"TResNet-F\",\n",
    "}"
   ]
  },
  {
   "cell_type": "code",
   "execution_count": null,
   "id": "41a9759c",
   "metadata": {
    "scrolled": false
   },
   "outputs": [],
   "source": [
    "fig, ax = plt.subplots(figsize=(16,12))\n",
    "belt1, belt2 = np.full((len(abla_3),50), np.nan), np.full((len(abla_3),50), np.nan)\n",
    "for idx, row in df_abla3.iterrows():\n",
    "    train_cm = row.train_cm\n",
    "    if len(train_cm) == 50:\n",
    "        _train_cm = train_cm\n",
    "    name = row[\"name\"].replace(\"-lstm-se-2linear-zscore-mixup-asymmetric-onecycle\", \"\")\n",
    "    ax.plot(\n",
    "        train_cm.index.values*20, train_cm.challenge_metric,\n",
    "        label=\"train-\"+name_map.get(name,name),\n",
    "        c=colors[idx],\n",
    "        marker=markers[idx],\n",
    "        markersize=marker_size,\n",
    "    )\n",
    "    belt1[idx,:len(train_cm.challenge_metric)] = train_cm.challenge_metric.values\n",
    "for idx, row in df_abla3.iterrows():\n",
    "    val_cm = row.val_cm\n",
    "    name = row[\"name\"].replace(\"-lstm-se-2linear-zscore-mixup-asymmetric-onecycle\", \"\")\n",
    "    ax.plot(\n",
    "        val_cm.index.values*20, val_cm.challenge_metric,\n",
    "        ls='--',\n",
    "        label=\"val-\"+name_map.get(name,name),\n",
    "        c=colors[idx],\n",
    "        marker=markers[idx],\n",
    "        markersize=marker_size,\n",
    "    )\n",
    "    belt2[idx,:len(val_cm.challenge_metric)] = val_cm.challenge_metric.values\n",
    "ax.fill_between(_train_cm.index.values*20, np.nanmean(belt1,axis=0)-0.06, np.nanmean(belt1,axis=0)+0.06, color='r', alpha=.15)\n",
    "ax.fill_between(_train_cm.index.values*20, np.nanmean(belt2,axis=0)-0.03, np.nanmean(belt2,axis=0)+0.028, color='g', alpha=.2)\n",
    "ax.set_xlabel(\"Steps (n.u.)\")\n",
    "ax.set_ylabel(\"Challenge Metric (n.u.)\")\n",
    "ax.legend(loc=\"lower right\", ncol=2)\n",
    "ax.set_ylim(0.23,1)\n",
    "\n",
    "fig.tight_layout()\n",
    "\n",
    "plt.savefig(\"./images/abla3_cm.pdf\", dpi=1200, bbox_inches=\"tight\")\n",
    "plt.savefig(\"./images/abla3_cm.svg\", dpi=1200, bbox_inches=\"tight\")"
   ]
  },
  {
   "cell_type": "code",
   "execution_count": null,
   "id": "1ef651ef",
   "metadata": {},
   "outputs": [],
   "source": [
    "df_abla3"
   ]
  },
  {
   "cell_type": "code",
   "execution_count": null,
   "id": "4bbd98db",
   "metadata": {},
   "outputs": [],
   "source": [
    "df_abla3.at[1,\"val_cm\"].challenge_metric.max()"
   ]
  },
  {
   "cell_type": "code",
   "execution_count": null,
   "id": "c83d8260",
   "metadata": {},
   "outputs": [],
   "source": [
    "df_abla3.at[6,\"val_cm\"].challenge_metric.max()"
   ]
  },
  {
   "cell_type": "code",
   "execution_count": null,
   "id": "874b176f",
   "metadata": {},
   "outputs": [],
   "source": [
    "for idx, row in df_abla3.iterrows():\n",
    "    print(row[\"name\"], df_abla3.at[idx,\"val_cm\"].challenge_metric.max())"
   ]
  },
  {
   "cell_type": "code",
   "execution_count": null,
   "id": "2eb842bd",
   "metadata": {},
   "outputs": [],
   "source": []
  },
  {
   "cell_type": "code",
   "execution_count": null,
   "id": "adf7f851",
   "metadata": {},
   "outputs": [],
   "source": []
  },
  {
   "cell_type": "code",
   "execution_count": null,
   "id": "a2cc3c32",
   "metadata": {},
   "outputs": [],
   "source": []
  },
  {
   "cell_type": "code",
   "execution_count": null,
   "id": "a8e066d5",
   "metadata": {},
   "outputs": [],
   "source": [
    "abla_4 = [\n",
    " 'resnet_nature_comm_se-1linear-zscore-mixup-asymmetric-onecycle',\n",
    " 'resnet_nature_comm_bottle_neck_se-1linear-zscore-mixup-asymmetric-onecycle',\n",
    " 'tresnetN-1linear-zscore-mixup-asymmetric-onecycle',\n",
    " 'tresnetP-1linear-zscore-mixup-asymmetric-onecycle',\n",
    " 'tresnetF-1linear-zscore-mixup-asymmetric-onecycle',\n",
    " 'multi_scopic-1linear-zscore-mixup-asymmetric-onecycle',\n",
    " 'multi_scopic_leadwise-1linear-zscore-mixup-asymmetric-onecycle',\n",
    "]"
   ]
  },
  {
   "cell_type": "code",
   "execution_count": null,
   "id": "d46d475d",
   "metadata": {},
   "outputs": [],
   "source": [
    "df_abla4 = df_res[(df_res.name.isin(abla_4)) & (df_res.n_leads==12) & (~df_res.folder.str.contains(\"nas\"))].reset_index(drop=True)\n",
    "df_abla4[\"ordering\"] = df_abla4.name.apply(lambda s: abla_4.index(s))\n",
    "df_abla4 = df_abla4.sort_values(by=\"ordering\").reset_index(drop=True)"
   ]
  },
  {
   "cell_type": "code",
   "execution_count": null,
   "id": "f7f2275f",
   "metadata": {},
   "outputs": [],
   "source": [
    "df_abla4"
   ]
  },
  {
   "cell_type": "code",
   "execution_count": null,
   "id": "675ba9b1",
   "metadata": {},
   "outputs": [],
   "source": [
    "fig, ax = plt.subplots(figsize=(16,12))\n",
    "belt1, belt2 = np.full((len(abla_4),50), np.nan), np.full((len(abla_4),50), np.nan)\n",
    "_train_cm = pd.DataFrame()\n",
    "for idx, row in df_abla4.iterrows():\n",
    "    train_cm = row.train_cm\n",
    "    if len(train_cm) > len(_train_cm):\n",
    "        _train_cm = train_cm\n",
    "    name = row[\"name\"].replace(\"-1linear-zscore-mixup-asymmetric-onecycle\", \"\")\n",
    "    ax.plot(\n",
    "        train_cm.index.values*20, train_cm.challenge_metric,\n",
    "        label=\"train-\"+name_map.get(name,name),\n",
    "        c=colors[idx],\n",
    "        marker=markers[idx],\n",
    "        markersize=marker_size,\n",
    "    )\n",
    "    belt1[idx,:len(train_cm.challenge_metric)] = train_cm.challenge_metric.values\n",
    "belt1 = belt1[...,:len(_train_cm)]\n",
    "belt2 = belt2[...,:len(_train_cm)]\n",
    "for idx, row in df_abla4.iterrows():\n",
    "    val_cm = row.val_cm\n",
    "    name = row[\"name\"].replace(\"-1linear-zscore-mixup-asymmetric-onecycle\", \"\")\n",
    "    ax.plot(\n",
    "        val_cm.index.values*20, val_cm.challenge_metric,\n",
    "        ls='--',\n",
    "        label=\"val-\"+name_map.get(name,name),\n",
    "        c=colors[idx],\n",
    "        marker=markers[idx],\n",
    "        markersize=marker_size,\n",
    "    )\n",
    "    belt2[idx,:len(val_cm.challenge_metric)] = val_cm.challenge_metric.values\n",
    "ax.set_xlabel(\"Steps (n.u.)\")\n",
    "ax.set_ylabel(\"Challenge Metric (n.u.)\")\n",
    "ax.legend(loc=\"lower right\", ncol=2)\n",
    "ax.set_ylim(0.26,1.01)\n",
    "\n",
    "fig.tight_layout()\n",
    "\n",
    "plt.savefig(\"./images/abla4_cm.pdf\", dpi=1200, bbox_inches=\"tight\")\n",
    "plt.savefig(\"./images/abla4_cm.svg\", dpi=1200, bbox_inches=\"tight\")"
   ]
  },
  {
   "cell_type": "code",
   "execution_count": null,
   "id": "533702c6",
   "metadata": {},
   "outputs": [],
   "source": [
    "# abla5 leads 12-2, resnet-nc-se, lstm, se, 2-linear, asymmetric loss, one cycle 1e-4 to 2e-3"
   ]
  },
  {
   "cell_type": "code",
   "execution_count": null,
   "id": "f675ce99",
   "metadata": {},
   "outputs": [],
   "source": [
    "from mpl_toolkits.axes_grid1.inset_locator import inset_axes"
   ]
  },
  {
   "cell_type": "code",
   "execution_count": null,
   "id": "1cd16c5e",
   "metadata": {},
   "outputs": [],
   "source": [
    "df_abla5 = df_res[(df_res.n_leads<12) | (df_res.name == 'resnet_nature_comm_se-lstm-se-2linear-zscore-mixup-asymmetric-onecycle')].reset_index(drop=True)"
   ]
  },
  {
   "cell_type": "code",
   "execution_count": null,
   "id": "e2976dfc",
   "metadata": {},
   "outputs": [],
   "source": [
    "df_abla5 = df_abla5.sort_values(\"n_leads\", ascending=False).reset_index(drop=True)"
   ]
  },
  {
   "cell_type": "code",
   "execution_count": null,
   "id": "e1f76381",
   "metadata": {},
   "outputs": [],
   "source": [
    "df_abla5"
   ]
  },
  {
   "cell_type": "code",
   "execution_count": null,
   "id": "0fba5449",
   "metadata": {},
   "outputs": [],
   "source": [
    "import matplotlib.patches as patches\n",
    "from mpl_toolkits.axes_grid1.inset_locator import inset_axes, mark_inset, InsetPosition\n",
    "\n",
    "max_cm = {}\n",
    "\n",
    "fig, ax = plt.subplots(figsize=(16,12))\n",
    "belt1, belt2 = np.full((len(df_abla5),50), np.nan), np.full((len(df_abla5),50), np.nan)\n",
    "_train_cm = pd.DataFrame()\n",
    "for idx, row in df_abla5.iterrows():\n",
    "    train_cm = row.train_cm\n",
    "    if len(train_cm) > len(_train_cm):\n",
    "        _train_cm = train_cm\n",
    "    ax.plot(\n",
    "        train_cm.index.values*20, train_cm.challenge_metric,\n",
    "        label=f\"train-{row.n_leads}-leads\",\n",
    "        c=colors[idx],\n",
    "        marker=markers[idx],\n",
    "        markersize=marker_size,\n",
    "    )\n",
    "    belt1[idx,:len(train_cm.challenge_metric)] = train_cm.challenge_metric.values\n",
    "for idx, row in df_abla5.iterrows():\n",
    "    val_cm = row.val_cm\n",
    "    name = row[\"name\"].replace(\"-1linear-zscore-mixup-asymmetric-onecycle\", \"\")\n",
    "    ax.plot(\n",
    "        val_cm.index.values*20, val_cm.challenge_metric,\n",
    "        ls='--',\n",
    "        label=f\"val-{row.n_leads}-leads\",\n",
    "        c=colors[idx],\n",
    "        marker=markers[idx],\n",
    "        markersize=marker_size,\n",
    "    )\n",
    "    max_cm[row.n_leads] = val_cm.challenge_metric.max()\n",
    "    belt2[idx,:len(val_cm.challenge_metric)] = val_cm.challenge_metric.values\n",
    "ax.fill_between(_train_cm.index.values*20, np.nanmean(belt1,axis=0)-0.042, np.nanmean(belt1,axis=0)+0.042, color='r', alpha=.15)\n",
    "ax.fill_between(_train_cm.index.values*20, np.nanmean(belt2,axis=0)-0.03, np.nanmean(belt2,axis=0)+0.03, color='g', alpha=.2)\n",
    "ax.set_xlabel(\"Steps (n.u.)\")\n",
    "ax.set_ylabel(\"Challenge Metric (n.u.)\")\n",
    "ax.legend(loc=\"upper left\", ncol=2)\n",
    "ax.set_ylim(0.2,1.05)\n",
    "\n",
    "rect = patches.Rectangle((42000, 0.62), 14200, 0.08, facecolor=\"none\", edgecolor=\"black\", ls=\"-\", lw=3)\n",
    "ax.add_patch(rect)\n",
    "\n",
    "axin = inset_axes(\n",
    "    ax, width=\"35%\", height=\"30%\",\n",
    "    loc=4, borderpad=3,\n",
    ")\n",
    "axin.plot([max_cm[l] for l in df_abla5.n_leads.values], color=\"black\", marker=\"o\", markersize=8)\n",
    "axin.set_ylim(0.62,0.72)\n",
    "axin.set_xlabel(\"Lead-Set\", fontsize=22)\n",
    "axin.set_xticks(np.arange(len(df_abla5.n_leads.values)))\n",
    "axin.set_xticklabels([f\"{l}-leads\" for l in df_abla5.n_leads.values])\n",
    "axin.tick_params(axis = 'both', labelsize = 16)\n",
    "axin.set_ylabel(\"Challenge Metric (n.u.)\", fontsize=22)\n",
    "axin.grid()\n",
    "# axin.tick_params(axis = 'y', rotation = 45)\n",
    "axin.plot((2), max_cm[4], marker='o', markersize=10, color='r', )\n",
    "axin.plot((3), max_cm[3], marker='o', markersize=10, color='r', )\n",
    "for idx, l in enumerate(df_abla5.n_leads.values):\n",
    "    c = \"black\" if idx not in [2,3] else \"red\"\n",
    "    axin.text(idx-0.2, max_cm[l]+0.004, f\"{max_cm[l]:.3f}\", fontsize=18, color=c)\n",
    "\n",
    "rect = patches.Rectangle((28800, 0.22), 27200, 0.335, facecolor=\"none\", edgecolor=\"black\", ls=\"-\", lw=3)\n",
    "ax.add_patch(rect)\n",
    "\n",
    "ax.annotate('', xytext=(49000, 0.62), xy=(46000, 0.552), \n",
    "            arrowprops=dict(facecolor='black', shrink=0.06),)\n",
    "\n",
    "fig.tight_layout()\n",
    "\n",
    "plt.savefig(\"./images/abla5_cm.pdf\", dpi=1200, bbox_inches=\"tight\")\n",
    "plt.savefig(\"./images/abla5_cm.svg\", dpi=1200, bbox_inches=\"tight\")"
   ]
  },
  {
   "cell_type": "code",
   "execution_count": null,
   "id": "f5e5c386",
   "metadata": {},
   "outputs": [],
   "source": []
  },
  {
   "cell_type": "code",
   "execution_count": null,
   "id": "a9ae1a9f",
   "metadata": {},
   "outputs": [],
   "source": []
  },
  {
   "cell_type": "markdown",
   "id": "9d1aad1e",
   "metadata": {},
   "source": [
    "## new ablation (NAS) result"
   ]
  },
  {
   "cell_type": "code",
   "execution_count": null,
   "id": "e997f6c5",
   "metadata": {},
   "outputs": [],
   "source": [
    "df_new_abla = df_res[df_res.folder.str.contains(\"nas\")].reset_index(drop=True)\n",
    "df_new_abla[\"name\"] = df_new_abla[\"name\"].apply(lambda s: s.replace(\"resnet_nature_comm_bottle_neck_se-\", \"\").replace(\"-zscore-label_smooth-mixup-asymmetric-onecycle\", \"\"))\n",
    "df_new_abla = df_new_abla.sort_values(\"val_cm_max\", ascending=False).reset_index(drop=True)\n",
    "df_new_abla = df_new_abla.drop([\"folder\", \"n_leads\"], axis=1)"
   ]
  },
  {
   "cell_type": "code",
   "execution_count": null,
   "id": "1182330d",
   "metadata": {},
   "outputs": [],
   "source": [
    "df_new_abla"
   ]
  },
  {
   "cell_type": "code",
   "execution_count": null,
   "id": "434a0f6a",
   "metadata": {},
   "outputs": [],
   "source": [
    "fig, ax = plt.subplots(figsize=(16,12))\n",
    "belt1, belt2 = np.full((len(df_new_abla),50), np.nan), np.full((len(df_new_abla),50), np.nan)\n",
    "_train_cm = pd.DataFrame()\n",
    "for idx, row in df_new_abla.iterrows():\n",
    "    train_cm = row.train_cm\n",
    "    if len(train_cm) > len(_train_cm):\n",
    "        _train_cm = train_cm\n",
    "    name = row[\"name\"].replace(\"-zscore-mixup-asymmetric-onecycle\", \"\")\n",
    "    ax.plot(\n",
    "        train_cm.index.values*20, train_cm.challenge_metric,\n",
    "        label=\"train-\"+name_map.get(name,name),\n",
    "        c=colors[idx],\n",
    "        marker=markers[idx],\n",
    "        markersize=marker_size,\n",
    "    )\n",
    "    belt1[idx,:len(train_cm.challenge_metric)] = train_cm.challenge_metric.values\n",
    "belt1 = belt1[...,:len(_train_cm)]\n",
    "belt2 = belt2[...,:len(_train_cm)]\n",
    "for idx, row in df_new_abla.iterrows():\n",
    "    val_cm = row.val_cm\n",
    "    name = row[\"name\"].replace(\"-zscore-mixup-asymmetric-onecycle\", \"\")\n",
    "    ax.plot(\n",
    "        val_cm.index.values*20, val_cm.challenge_metric,\n",
    "        ls='--',\n",
    "        label=\"val-\"+name_map.get(name,name),\n",
    "        c=colors[idx],\n",
    "        marker=markers[idx],\n",
    "        markersize=marker_size,\n",
    "    )\n",
    "    belt2[idx,:len(val_cm.challenge_metric)] = val_cm.challenge_metric.values\n",
    "ax.fill_between(_train_cm.index.values*20, np.nanmean(belt1,axis=0)-0.06, np.nanmean(belt1,axis=0)+0.06, color='r', alpha=.15)\n",
    "ax.fill_between(_train_cm.index.values*20, np.nanmean(belt2,axis=0)-0.02, np.nanmean(belt2,axis=0)+0.02, color='g', alpha=.2)\n",
    "ax.set_xlabel(\"Steps (n.u.)\")\n",
    "ax.set_ylabel(\"Challenge Metric (n.u.)\")\n",
    "ax.legend(loc=\"lower right\", ncol=2)\n",
    "ax.set_ylim(0.23,1)\n",
    "\n",
    "fig.tight_layout()\n",
    "\n",
    "plt.savefig(\"./images/abla6_cm.pdf\", dpi=1200, bbox_inches=\"tight\")\n",
    "plt.savefig(\"./images/abla6_cm.svg\", dpi=1200, bbox_inches=\"tight\")"
   ]
  },
  {
   "cell_type": "code",
   "execution_count": null,
   "id": "46d0620d",
   "metadata": {},
   "outputs": [],
   "source": []
  },
  {
   "cell_type": "code",
   "execution_count": null,
   "id": "1b6542a2",
   "metadata": {},
   "outputs": [],
   "source": []
  },
  {
   "cell_type": "code",
   "execution_count": null,
   "id": "ca3e95c4",
   "metadata": {},
   "outputs": [],
   "source": []
  },
  {
   "cell_type": "code",
   "execution_count": null,
   "id": "542fa815",
   "metadata": {},
   "outputs": [],
   "source": [
    "df_compare = df_res[(df_res.n_leads==12)&(df_res.rnn_name==\"none\")&(df_res.attn_name==\"none\")&(df_res.n_linear==1)&(df_res.name.str.endswith(\"-zscore-mixup-asymmetric-onecycle\"))].reset_index(drop=True)"
   ]
  },
  {
   "cell_type": "code",
   "execution_count": null,
   "id": "809aec32",
   "metadata": {},
   "outputs": [],
   "source": [
    "df_compare"
   ]
  },
  {
   "cell_type": "code",
   "execution_count": null,
   "id": "50000924",
   "metadata": {},
   "outputs": [],
   "source": [
    "df_compare = df_compare.iloc[[0,1,3,4,5,6,7,8]].reset_index(drop=True)"
   ]
  },
  {
   "cell_type": "code",
   "execution_count": null,
   "id": "f603ce73",
   "metadata": {},
   "outputs": [],
   "source": [
    "df_compare = df_compare.sort_values(\"size\",ascending=True).reset_index(drop=True)"
   ]
  },
  {
   "cell_type": "code",
   "execution_count": null,
   "id": "e2b707b8",
   "metadata": {},
   "outputs": [],
   "source": [
    "fig, ax = plt.subplots(figsize=(16,12))\n",
    "# ax.set_xscale(\"log\")\n",
    "df_tmp = df_compare[df_compare.cnn_name.str.startswith(\"resnet_nature\")]\n",
    "ax.plot(df_tmp[\"size\"], df_tmp.val_cm_max, c=colors[0])\n",
    "for _, row in df_tmp.iterrows():\n",
    "    ax.plot(row[\"size\"], row.val_cm_max, marker='o', markersize=18, c=colors[0])\n",
    "    if row.cnn_name == \"resnet_nature_comm_se\":\n",
    "        x,y = row[\"size\"]+0.2, row.val_cm_max-0.001\n",
    "    elif row.cnn_name == \"resnet_nature_comm_bottle_neck_se\":\n",
    "        x,y = row[\"size\"]-0.9, row.val_cm_max+0.002\n",
    "    elif row.cnn_name == \"resnet_nature_comm_bottle_neck_gc\":\n",
    "        x,y = row[\"size\"]+0.2, row.val_cm_max-0.002\n",
    "    ax.text(x,y, name_map[row.cnn_name],c=colors[0], fontsize=21 )\n",
    "df_tmp = df_compare[df_compare.cnn_name.str.startswith(\"tresnet\")]\n",
    "ax.plot(df_tmp[\"size\"], df_tmp.val_cm_max, c=colors[1])\n",
    "for _, row in df_tmp.iterrows():\n",
    "    ax.plot(row[\"size\"], row.val_cm_max, marker='o', markersize=18, c=colors[1])\n",
    "    if row.cnn_name == \"tresnetN\":\n",
    "        x,y = row[\"size\"]-1.2, row.val_cm_max+0.0025\n",
    "    else:\n",
    "        x,y = row[\"size\"]+0.3, row.val_cm_max-0.003\n",
    "    ax.text(x,y, name_map[row.cnn_name],c=colors[1], fontsize=21 )\n",
    "df_tmp = df_compare[df_compare.cnn_name.str.startswith(\"multi\")]\n",
    "ax.plot(df_tmp[\"size\"], df_tmp.val_cm_max, c=colors[2])\n",
    "for _, row in df_tmp.iterrows():\n",
    "    ax.plot(row[\"size\"], row.val_cm_max, marker='o', markersize=18, c=colors[2])\n",
    "    if row.cnn_name == \"multi_scopic\":\n",
    "        x,y = row[\"size\"]-0.4, row.val_cm_max-0.006\n",
    "    else:\n",
    "        x,y = row[\"size\"]-0.9, row.val_cm_max+0.003\n",
    "    ax.text(x,y, name_map[row.cnn_name],c=colors[2], fontsize=21 )\n",
    "ax.set_ylim(0.62, 0.73)\n",
    "ax.set_xlabel(\"# Params (million)\")\n",
    "ax.set_ylabel(\"Challenge Metric (n.u.)\")\n",
    "\n",
    "\n",
    "fig.tight_layout()\n",
    "\n",
    "plt.savefig(\"./images/nn_compare.pdf\", dpi=1200, bbox_inches=\"tight\")\n",
    "plt.savefig(\"./images/nn_compare.svg\", dpi=1200, bbox_inches=\"tight\")"
   ]
  },
  {
   "cell_type": "code",
   "execution_count": null,
   "id": "16fb3425",
   "metadata": {},
   "outputs": [],
   "source": []
  },
  {
   "cell_type": "code",
   "execution_count": null,
   "id": "a9317b22",
   "metadata": {},
   "outputs": [],
   "source": []
  },
  {
   "cell_type": "code",
   "execution_count": null,
   "id": "48914003",
   "metadata": {},
   "outputs": [],
   "source": []
  },
  {
   "cell_type": "code",
   "execution_count": null,
   "id": "86b53066",
   "metadata": {},
   "outputs": [],
   "source": [
    "train_config = deepcopy(TrainCfg_ns)\n",
    "train_config.rnn_name = \"lstm\"\n",
    "\n",
    "device = torch.device(\"cuda\" if torch.cuda.is_available() else \"cpu\")\n",
    "\n",
    "train_config.n_leads = len(train_config.leads)\n",
    "\n",
    "tranches = train_config.tranches_for_training\n",
    "if tranches:\n",
    "    classes = train_config.tranche_classes[tranches]\n",
    "else:\n",
    "    classes = train_config.classes\n",
    "\n",
    "if train_config.n_leads == 12:\n",
    "    model_config = deepcopy(ModelCfg_ns.twelve_leads)\n",
    "elif train_config.n_leads == 6:\n",
    "    model_config = deepcopy(ModelCfg_ns.six_leads)\n",
    "elif train_config.n_leads == 4:\n",
    "    model_config = deepcopy(ModelCfg_ns.four_leads)\n",
    "elif train_config.n_leads == 3:\n",
    "    model_config = deepcopy(ModelCfg_ns.three_leads)\n",
    "elif train_config.n_leads == 2:\n",
    "    model_config = deepcopy(ModelCfg_ns.two_leads)\n",
    "model_config.cnn.name = train_config.cnn_name\n",
    "model_config.rnn.name = train_config.rnn_name\n",
    "model_config.attn.name = train_config.attn_name"
   ]
  },
  {
   "cell_type": "code",
   "execution_count": null,
   "id": "34f524b4",
   "metadata": {},
   "outputs": [],
   "source": []
  },
  {
   "cell_type": "code",
   "execution_count": null,
   "id": "51a513fc",
   "metadata": {},
   "outputs": [],
   "source": [
    "l_cnn = [\n",
    "    \"resnet_nature_comm_se\",\n",
    "    \"resnet_nature_comm_bottle_neck_se\",\n",
    "    \"tresnetN\",\n",
    "    \"tresnetP\",\n",
    "    \"tresnetF\",\n",
    "    \"multi_scopic\",\n",
    "    \"multi_scopic_leadwise\",\n",
    "]"
   ]
  },
  {
   "cell_type": "code",
   "execution_count": null,
   "id": "9ad16598",
   "metadata": {},
   "outputs": [],
   "source": [
    "ms = {}\n",
    "\n",
    "for name in l_cnn:\n",
    "    model_config.cnn.name = name\n",
    "    model = ECG_CRNN_CINC2021(\n",
    "        classes=train_config.classes,\n",
    "        n_leads=train_config.n_leads,\n",
    "        config=model_config,\n",
    "    )\n",
    "    ms[name] = model.cnn.module_size"
   ]
  },
  {
   "cell_type": "code",
   "execution_count": null,
   "id": "4adabca6",
   "metadata": {},
   "outputs": [],
   "source": []
  },
  {
   "cell_type": "code",
   "execution_count": null,
   "id": "e91479a5",
   "metadata": {},
   "outputs": [],
   "source": []
  },
  {
   "cell_type": "code",
   "execution_count": null,
   "id": "0b18fbb2",
   "metadata": {},
   "outputs": [],
   "source": []
  },
  {
   "cell_type": "code",
   "execution_count": null,
   "id": "18de7c28",
   "metadata": {},
   "outputs": [],
   "source": [
    "df_table = df_res[df_res.name.str.contains(\"-zscore-mixup-asymmetric-onecycle\")][[\"name\", \"n_leads\", \"size\", \"size_h\", \"val_cm_max\", \"speed\", \"inf_speed\", \"efficiency\"]].reset_index(drop=True)"
   ]
  },
  {
   "cell_type": "code",
   "execution_count": null,
   "id": "98df59c5",
   "metadata": {},
   "outputs": [],
   "source": [
    "df_table.name = df_table.name.apply(lambda s: s.replace(\"-zscore-mixup-asymmetric-onecycle\", \"\"))"
   ]
  },
  {
   "cell_type": "code",
   "execution_count": null,
   "id": "7ba0147f",
   "metadata": {},
   "outputs": [],
   "source": []
  },
  {
   "cell_type": "code",
   "execution_count": null,
   "id": "ea456d22",
   "metadata": {},
   "outputs": [],
   "source": [
    "df_table[df_table.name.str.startswith(\"resnet_nature_comm_se\")].reset_index(drop=True)"
   ]
  },
  {
   "cell_type": "code",
   "execution_count": null,
   "id": "cfc5b7b5",
   "metadata": {},
   "outputs": [],
   "source": []
  },
  {
   "cell_type": "code",
   "execution_count": null,
   "id": "79631a83",
   "metadata": {},
   "outputs": [],
   "source": []
  },
  {
   "cell_type": "markdown",
   "id": "82b86284",
   "metadata": {},
   "source": [
    "## special detectors"
   ]
  },
  {
   "cell_type": "code",
   "execution_count": null,
   "id": "8ad11fe6",
   "metadata": {},
   "outputs": [],
   "source": [
    "import json, gzip"
   ]
  },
  {
   "cell_type": "code",
   "execution_count": null,
   "id": "4b4271e3",
   "metadata": {},
   "outputs": [],
   "source": [
    "with gzip.open(\"./results/special_detector_test_results_xqrs.json.gz\", \"r\") as f:\n",
    "    content = json.load(f)"
   ]
  },
  {
   "cell_type": "code",
   "execution_count": null,
   "id": "973cc9bb",
   "metadata": {},
   "outputs": [],
   "source": [
    "cm_sd = ED()"
   ]
  },
  {
   "cell_type": "code",
   "execution_count": null,
   "id": "c651d4be",
   "metadata": {},
   "outputs": [],
   "source": [
    "for c in [\"LAD\", \"RAD\", \"PR\", \"LQRSV\"]:\n",
    "    cm_sd[c] = ED()\n",
    "    cm_sd[c].tp = 0\n",
    "    cm_sd[c].fp = 0\n",
    "    cm_sd[c].fn = 0\n",
    "    cm_sd[c].tn = 0\n",
    "    for item in content[\"twelve_leads\"]:\n",
    "        if c in item[\"label\"]:\n",
    "            if c in item[\"pred\"]:\n",
    "                cm_sd[c].tp += 1\n",
    "            else:\n",
    "                cm_sd[c].fn += 1\n",
    "        else:\n",
    "            if c in item[\"pred\"]:\n",
    "                cm_sd[c].fp += 1\n",
    "            else:\n",
    "                cm_sd[c].tn += 1"
   ]
  },
  {
   "cell_type": "code",
   "execution_count": null,
   "id": "7d4c2a6e",
   "metadata": {},
   "outputs": [],
   "source": [
    "c = \"brady\"\n",
    "cm_sd[c] = ED()\n",
    "cm_sd[c].tp = 0\n",
    "cm_sd[c].fp = 0\n",
    "cm_sd[c].fn = 0\n",
    "cm_sd[c].tn = 0\n",
    "for item in content[\"twelve_leads\"]:\n",
    "    if \"Brady\" in item[\"label\"] or \"SB\" in item[\"label\"]:\n",
    "        if c in item[\"pred\"]:\n",
    "            cm_sd[c].tp += 1\n",
    "        else:\n",
    "            cm_sd[c].fn += 1\n",
    "    else:\n",
    "        if c in item[\"pred\"]:\n",
    "            cm_sd[c].fp += 1\n",
    "        else:\n",
    "            cm_sd[c].tn += 1"
   ]
  },
  {
   "cell_type": "code",
   "execution_count": null,
   "id": "275a63d1",
   "metadata": {},
   "outputs": [],
   "source": [
    "cm_sd"
   ]
  },
  {
   "cell_type": "code",
   "execution_count": null,
   "id": "687156be",
   "metadata": {},
   "outputs": [],
   "source": [
    "[item for item in content[\"twelve_leads\"] if \"LAD\" in item[\"pred\"]]"
   ]
  },
  {
   "cell_type": "code",
   "execution_count": null,
   "id": "7d1df681",
   "metadata": {},
   "outputs": [],
   "source": [
    "ds_train.reader.get_labels()"
   ]
  },
  {
   "cell_type": "code",
   "execution_count": null,
   "id": "7440ca33",
   "metadata": {},
   "outputs": [],
   "source": [
    "ds_train.reader.plot(\n",
    "    \"A0226\",\n",
    "#     leads=[\"I\", \"II\", \"III\", \"aVR\", \"aVL\", \"aVF\",],\n",
    "    leads = [\"I\", \"II\", \"aVF\",],\n",
    "    ticks_granularity=2,\n",
    "    save_path=\"./working_dir/A0226.pdf\"\n",
    ")"
   ]
  },
  {
   "cell_type": "code",
   "execution_count": null,
   "id": "92812f97",
   "metadata": {},
   "outputs": [],
   "source": [
    "np.ones((12,))"
   ]
  },
  {
   "cell_type": "code",
   "execution_count": null,
   "id": "a565fb77",
   "metadata": {},
   "outputs": [],
   "source": [
    "np.maximum(0.5, np.ones((12,)))"
   ]
  },
  {
   "cell_type": "code",
   "execution_count": null,
   "id": "7aea581a",
   "metadata": {},
   "outputs": [],
   "source": []
  },
  {
   "cell_type": "code",
   "execution_count": null,
   "id": "b5aabac5",
   "metadata": {},
   "outputs": [],
   "source": [
    "df_res"
   ]
  },
  {
   "cell_type": "code",
   "execution_count": null,
   "id": "a3bb579f",
   "metadata": {},
   "outputs": [],
   "source": [
    "df_sota = df_res[(df_res.cnn_name.str.contains(\"resnet_nature_comm_bottle_neck\")) & (df_res.n_leads==12)].reset_index(drop=True)"
   ]
  },
  {
   "cell_type": "code",
   "execution_count": null,
   "id": "d8e78001",
   "metadata": {},
   "outputs": [],
   "source": [
    "df_sota.name.tolist()"
   ]
  },
  {
   "cell_type": "code",
   "execution_count": null,
   "id": "b52fbdc2",
   "metadata": {},
   "outputs": [],
   "source": [
    "df_sota"
   ]
  },
  {
   "cell_type": "code",
   "execution_count": null,
   "id": "0c1d8080",
   "metadata": {},
   "outputs": [],
   "source": []
  },
  {
   "cell_type": "code",
   "execution_count": null,
   "id": "925b8259",
   "metadata": {},
   "outputs": [],
   "source": []
  },
  {
   "cell_type": "code",
   "execution_count": null,
   "id": "53473ebb",
   "metadata": {},
   "outputs": [],
   "source": []
  },
  {
   "cell_type": "code",
   "execution_count": null,
   "id": "b1b4e609",
   "metadata": {},
   "outputs": [],
   "source": []
  },
  {
   "cell_type": "code",
   "execution_count": null,
   "id": "07a54629",
   "metadata": {},
   "outputs": [],
   "source": [
    "ds_train.reader.df_stats"
   ]
  },
  {
   "cell_type": "code",
   "execution_count": null,
   "id": "07804e9e",
   "metadata": {},
   "outputs": [],
   "source": [
    "from utils.scoring_aux_data import dx_mapping_scored, equiv_class_dict"
   ]
  },
  {
   "cell_type": "code",
   "execution_count": null,
   "id": "bc8b2f8a",
   "metadata": {},
   "outputs": [],
   "source": [
    "dx_mapping_scored = dx_mapping_scored.sort_values(\"Total\", ascending=False).reset_index(drop=True)"
   ]
  },
  {
   "cell_type": "code",
   "execution_count": null,
   "id": "9216f6d6",
   "metadata": {
    "scrolled": true
   },
   "outputs": [],
   "source": [
    "dx_mapping_scored"
   ]
  },
  {
   "cell_type": "code",
   "execution_count": null,
   "id": "6861c2e8",
   "metadata": {},
   "outputs": [],
   "source": [
    "fig, ax = plt.subplots(figsize=(12,16))\n",
    "\n",
    "y_pos = np.arange(len(dx_mapping_scored))\n",
    "\n",
    "ax.barh(y_pos, dx_mapping_scored.Total, align='center')\n",
    "ax.set_yticks(y_pos)\n",
    "ax.set_yticklabels(dx_mapping_scored.Abbreviation, fontsize=22)\n",
    "ax.invert_yaxis()  # labels read top-to-bottom\n",
    "ax.xaxis.set_tick_params(labelsize=22)\n",
    "ax.set_xlabel('# records (n.u.)', fontsize=32)\n",
    "ax.set_xlim(0,32000)\n",
    "# ax.grid()\n",
    "for idx, row in dx_mapping_scored.iterrows():\n",
    "    ax.text(row.Total, idx+0.23, row.Total, fontsize=20)\n",
    "\n",
    "plt.savefig(\"./images/scored_classes_distribution.svg\", dpi=1200, bbox_inches=\"tight\", transparent=False)\n",
    "plt.savefig(\"./images/scored_classes_distribution.pdf\", dpi=1200, bbox_inches=\"tight\", transparent=False)"
   ]
  },
  {
   "cell_type": "code",
   "execution_count": null,
   "id": "f7af7001",
   "metadata": {},
   "outputs": [],
   "source": [
    "for idx, row in dx_mapping_scored.iterrows():\n",
    "    print(f\"{row.SNOMEDCTCode} & {row.Abbreviation} & {row.Dx.title()} \\\\\\\\\")"
   ]
  },
  {
   "cell_type": "code",
   "execution_count": null,
   "id": "c5db6a57",
   "metadata": {},
   "outputs": [],
   "source": [
    "equiv_class_dict"
   ]
  },
  {
   "cell_type": "code",
   "execution_count": null,
   "id": "d1659bfd",
   "metadata": {},
   "outputs": [],
   "source": []
  }
 ],
 "metadata": {
  "kernelspec": {
   "display_name": "Python 3",
   "language": "python",
   "name": "python3"
  },
  "language_info": {
   "codemirror_mode": {
    "name": "ipython",
    "version": 3
   },
   "file_extension": ".py",
   "mimetype": "text/x-python",
   "name": "python",
   "nbconvert_exporter": "python",
   "pygments_lexer": "ipython3",
   "version": "3.6.9"
  }
 },
 "nbformat": 4,
 "nbformat_minor": 5
}
