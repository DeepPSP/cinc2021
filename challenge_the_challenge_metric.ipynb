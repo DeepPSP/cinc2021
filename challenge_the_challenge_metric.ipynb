{
 "cells": [
  {
   "cell_type": "code",
   "execution_count": 1,
   "id": "71d6f853",
   "metadata": {},
   "outputs": [
    {
     "data": {
      "application/javascript": [
       "\n",
       "        if (window._pyforest_update_imports_cell) { window._pyforest_update_imports_cell('import numpy as np'); }\n",
       "    "
      ],
      "text/plain": [
       "<IPython.core.display.Javascript object>"
      ]
     },
     "metadata": {},
     "output_type": "display_data"
    },
    {
     "data": {
      "application/javascript": [
       "\n",
       "        if (window._pyforest_update_imports_cell) { window._pyforest_update_imports_cell('import numpy as np'); }\n",
       "    "
      ],
      "text/plain": [
       "<IPython.core.display.Javascript object>"
      ]
     },
     "metadata": {},
     "output_type": "display_data"
    },
    {
     "data": {
      "application/javascript": [
       "\n",
       "        if (window._pyforest_update_imports_cell) { window._pyforest_update_imports_cell('import numpy as np'); }\n",
       "    "
      ],
      "text/plain": [
       "<IPython.core.display.Javascript object>"
      ]
     },
     "metadata": {},
     "output_type": "display_data"
    },
    {
     "data": {
      "application/vnd.jupyter.widget-view+json": {
       "model_id": "a9f78fb31dd749409f63dfe212380d20",
       "version_major": 2,
       "version_minor": 0
      },
      "text/plain": [
       "  0%|          | 0/100000 [00:00<?, ?it/s]"
      ]
     },
     "metadata": {},
     "output_type": "display_data"
    }
   ],
   "source": [
    "import numpy as np\n",
    "# ^^^ pyforest auto-imports - don't write above this line\n",
    "import random\n",
    "from tqdm.auto import tqdm\n",
    "\n",
    "from utils.scoring_metrics import evaluate_scores\n",
    "from utils.scoring_aux_data import df_weights_abbr\n",
    "\n",
    "classes = df_weights_abbr.columns.tolist()\n",
    "\n",
    "n_records = 100000\n",
    "n_classes = len(classes)\n",
    "\n",
    "truth = np.zeros((n_records, n_classes))\n",
    "binary_pred = np.zeros((n_records,n_classes))\n",
    "scalar_pred = np.random.uniform(0,1, size=(n_records,n_classes))\n",
    "\n",
    "with tqdm(range(n_records), total=n_records) as t:\n",
    "    for i in t:\n",
    "        num = random.randint(2,6)\n",
    "        for j in random.sample(range(n_classes), num):\n",
    "            truth[i,j] = 1\n",
    "        num = random.randint(2,6)\n",
    "        for j in random.sample(range(n_classes), num):\n",
    "            binary_pred[i,j] = 1"
   ]
  },
  {
   "cell_type": "code",
   "execution_count": 2,
   "id": "86a98516",
   "metadata": {},
   "outputs": [
    {
     "name": "stdout",
     "output_type": "stream",
     "text": [
      "- AUROC and AUPRC...\n",
      "- Accuracy...\n",
      "- F-measure...\n",
      "- F-beta and G-beta measures...\n",
      "- Challenge metric...\n",
      "Done.\n"
     ]
    }
   ],
   "source": [
    "auroc, auprc, accuracy, f_measure, f_beta_measure, g_beta_measure, challenge_metric = \\\n",
    "    evaluate_scores(classes, truth, binary_pred, scalar_pred)"
   ]
  },
  {
   "cell_type": "code",
   "execution_count": 3,
   "id": "aa394892",
   "metadata": {},
   "outputs": [
    {
     "name": "stdout",
     "output_type": "stream",
     "text": [
      "auroc = 0.4997910366737156\n",
      "auprc = 0.13328626970170643\n",
      "accuracy = 4e-05\n",
      "f_measure = 0.1332515819238622\n",
      "f_beta_measure = 0.1292837332870026\n",
      "g_beta_measure = 0.046119799118153386\n",
      "challenge_metric = 0.29412147826940593\n"
     ]
    }
   ],
   "source": [
    "print(\"auroc = {}\\nauprc = {}\\naccuracy = {}\\nf_measure = {}\\nf_beta_measure = {}\\ng_beta_measure = {}\\nchallenge_metric = {}\".format(auroc, auprc, accuracy, f_measure, f_beta_measure, g_beta_measure, challenge_metric))"
   ]
  },
  {
   "cell_type": "code",
   "execution_count": null,
   "id": "b7dcedb6",
   "metadata": {},
   "outputs": [],
   "source": []
  }
 ],
 "metadata": {
  "kernelspec": {
   "display_name": "Python 3",
   "language": "python",
   "name": "python3"
  },
  "language_info": {
   "codemirror_mode": {
    "name": "ipython",
    "version": 3
   },
   "file_extension": ".py",
   "mimetype": "text/x-python",
   "name": "python",
   "nbconvert_exporter": "python",
   "pygments_lexer": "ipython3",
   "version": "3.6.9"
  }
 },
 "nbformat": 4,
 "nbformat_minor": 5
}
